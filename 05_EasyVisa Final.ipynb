{
 "cells": [
  {
   "cell_type": "markdown",
   "id": "5i1Du122jTeM",
   "metadata": {
    "id": "5i1Du122jTeM"
   },
   "source": [
    "## EasyVisa Project\n",
    "***Marks: 60***"
   ]
  },
  {
   "cell_type": "markdown",
   "id": "2xUfZBo9JM9e",
   "metadata": {
    "id": "2xUfZBo9JM9e"
   },
   "source": [
    "## Problem Statement"
   ]
  },
  {
   "cell_type": "markdown",
   "id": "empty-shanghai",
   "metadata": {
    "id": "empty-shanghai"
   },
   "source": [
    "### Context:\n",
    "\n",
    "Business communities in the United States are facing high demand for human resources, but one of the constant challenges is identifying and attracting the right talent, which is perhaps the most important element in remaining competitive. Companies in the United States look for hard-working, talented, and qualified individuals both locally as well as abroad.\n",
    "\n",
    "The Immigration and Nationality Act (INA) of the US permits foreign workers to come to the United States to work on either a temporary or permanent basis. The act also protects US workers against adverse impacts on their wages or working conditions by ensuring US employers' compliance with statutory requirements when they hire foreign workers to fill workforce shortages. The immigration programs are administered by the Office of Foreign Labor Certification (OFLC).\n",
    "\n",
    "OFLC processes job certification applications for employers seeking to bring foreign workers into the United States and grants certifications in those cases where employers can demonstrate that there are not sufficient US workers available to perform the work at wages that meet or exceed the wage paid for the occupation in the area of intended employment.\n",
    "\n",
    "### Objective:\n",
    "\n",
    "In FY 2016, the OFLC processed 775,979 employer applications for 1,699,957 positions for temporary and permanent labor certifications. This was a nine percent increase in the overall number of processed applications from the previous year. The process of reviewing every case is becoming a tedious task as the number of applicants is increasing every year.\n",
    "\n",
    "The increasing number of applicants every year calls for a Machine Learning based solution that can help in shortlisting the candidates having higher chances of VISA approval. OFLC has hired the firm EasyVisa for data-driven solutions. You as a data  scientist at EasyVisa have to analyze the data provided and, with the help of a classification model:\n",
    "\n",
    "* Facilitate the process of visa approvals.\n",
    "* Recommend a suitable profile for the applicants for whom the visa should be certified or denied based on the drivers that significantly influence the case status. \n",
    "\n",
    "### Data Description\n",
    "\n",
    "The data contains the different attributes of employee and the employer. The detailed data dictionary is given below.\n",
    "\n",
    "* case_id: ID of each visa application\n",
    "* continent: Information of continent the employee\n",
    "* education_of_employee: Information of education of the employee\n",
    "* has_job_experience: Does the employee has any job experience? Y= Yes; N = No\n",
    "* requires_job_training: Does the employee require any job training? Y = Yes; N = No \n",
    "* no_of_employees: Number of employees in the employer's company\n",
    "* yr_of_estab: Year in which the employer's company was established\n",
    "* region_of_employment: Information of foreign worker's intended region of employment in the US.\n",
    "* prevailing_wage:  Average wage paid to similarly employed workers in a specific occupation in the area of intended employment. The purpose of the prevailing wage is to ensure that the foreign worker is not underpaid compared to other workers offering the same or similar service in the same area of employment. \n",
    "* unit_of_wage: Unit of prevailing wage. Values include Hourly, Weekly, Monthly, and Yearly.\n",
    "* full_time_position: Is the position of work full-time? Y = Full Time Position; N = Part Time Position\n",
    "* case_status:  Flag indicating if the Visa was certified or denied"
   ]
  },
  {
   "cell_type": "markdown",
   "id": "c1cd4628",
   "metadata": {
    "id": "c1cd4628"
   },
   "source": [
    "## Importing necessary libraries"
   ]
  },
  {
   "cell_type": "code",
   "execution_count": 1,
   "id": "canadian-maple",
   "metadata": {
    "colab": {
     "base_uri": "https://localhost:8080/",
     "height": 554
    },
    "id": "canadian-maple",
    "outputId": "2e2d6b3b-6f98-418d-b22a-2a07c2294b84"
   },
   "outputs": [],
   "source": [
    "\n",
    "import warnings\n",
    "\n",
    "warnings.filterwarnings(\"ignore\")\n",
    "\n",
    "# Libraries to help with reading and manipulating data\n",
    "import numpy as np\n",
    "import pandas as pd\n",
    "\n",
    "# Library to split data\n",
    "from sklearn.model_selection import train_test_split\n",
    "\n",
    "# libaries to help with data visualization\n",
    "import matplotlib.pyplot as plt\n",
    "import seaborn as sns\n",
    "\n",
    "# Removes the limit for the number of displayed columns\n",
    "pd.set_option(\"display.max_columns\", None)\n",
    "# Sets the limit for the number of displayed rows\n",
    "pd.set_option(\"display.max_rows\", 100)\n",
    "\n",
    "\n",
    "# Libraries different ensemble classifiers\n",
    "from sklearn.ensemble import (\n",
    "    BaggingClassifier,\n",
    "    RandomForestClassifier,\n",
    "    AdaBoostClassifier,\n",
    "    GradientBoostingClassifier,\n",
    "    StackingClassifier,\n",
    ")\n",
    "\n",
    "from xgboost import XGBClassifier\n",
    "from sklearn.tree import DecisionTreeClassifier\n",
    "\n",
    "# Libraries to get different metric scores\n",
    "from sklearn import metrics\n",
    "from sklearn.metrics import (\n",
    "    confusion_matrix,\n",
    "    accuracy_score,\n",
    "    precision_score,\n",
    "    recall_score,\n",
    "    f1_score,\n",
    ")\n",
    "\n",
    "# To tune different models\n",
    "from sklearn.model_selection import GridSearchCV"
   ]
  },
  {
   "cell_type": "markdown",
   "id": "thorough-passion",
   "metadata": {
    "id": "thorough-passion"
   },
   "source": [
    "## Importing Dataset"
   ]
  },
  {
   "cell_type": "code",
   "execution_count": 2,
   "id": "alleged-teaching",
   "metadata": {
    "id": "alleged-teaching"
   },
   "outputs": [],
   "source": [
    "visa = pd.read_csv(r'C:\\Users\\Niketh\\Desktop\\Great Learning\\Module 5 Essemble Technique\\Project\\EasyVisa.csv')"
   ]
  },
  {
   "cell_type": "code",
   "execution_count": 3,
   "id": "falling-annual",
   "metadata": {
    "id": "falling-annual"
   },
   "outputs": [],
   "source": [
    "# copying data to another variable\n",
    "data = visa.copy()\n",
    "df=data.copy()"
   ]
  },
  {
   "cell_type": "markdown",
   "id": "6vlJXoQkgcGI",
   "metadata": {
    "id": "6vlJXoQkgcGI"
   },
   "source": [
    "## Overview of the Dataset"
   ]
  },
  {
   "cell_type": "code",
   "execution_count": 4,
   "id": "judicial-lease",
   "metadata": {
    "id": "judicial-lease"
   },
   "outputs": [
    {
     "data": {
      "text/html": [
       "<div>\n",
       "<style scoped>\n",
       "    .dataframe tbody tr th:only-of-type {\n",
       "        vertical-align: middle;\n",
       "    }\n",
       "\n",
       "    .dataframe tbody tr th {\n",
       "        vertical-align: top;\n",
       "    }\n",
       "\n",
       "    .dataframe thead th {\n",
       "        text-align: right;\n",
       "    }\n",
       "</style>\n",
       "<table border=\"1\" class=\"dataframe\">\n",
       "  <thead>\n",
       "    <tr style=\"text-align: right;\">\n",
       "      <th></th>\n",
       "      <th>case_id</th>\n",
       "      <th>continent</th>\n",
       "      <th>education_of_employee</th>\n",
       "      <th>has_job_experience</th>\n",
       "      <th>requires_job_training</th>\n",
       "      <th>no_of_employees</th>\n",
       "      <th>yr_of_estab</th>\n",
       "      <th>region_of_employment</th>\n",
       "      <th>prevailing_wage</th>\n",
       "      <th>unit_of_wage</th>\n",
       "      <th>full_time_position</th>\n",
       "      <th>case_status</th>\n",
       "    </tr>\n",
       "  </thead>\n",
       "  <tbody>\n",
       "    <tr>\n",
       "      <th>0</th>\n",
       "      <td>EZYV01</td>\n",
       "      <td>Asia</td>\n",
       "      <td>High School</td>\n",
       "      <td>N</td>\n",
       "      <td>N</td>\n",
       "      <td>14513</td>\n",
       "      <td>2007</td>\n",
       "      <td>West</td>\n",
       "      <td>592.2029</td>\n",
       "      <td>Hour</td>\n",
       "      <td>Y</td>\n",
       "      <td>Denied</td>\n",
       "    </tr>\n",
       "    <tr>\n",
       "      <th>1</th>\n",
       "      <td>EZYV02</td>\n",
       "      <td>Asia</td>\n",
       "      <td>Master's</td>\n",
       "      <td>Y</td>\n",
       "      <td>N</td>\n",
       "      <td>2412</td>\n",
       "      <td>2002</td>\n",
       "      <td>Northeast</td>\n",
       "      <td>83425.6500</td>\n",
       "      <td>Year</td>\n",
       "      <td>Y</td>\n",
       "      <td>Certified</td>\n",
       "    </tr>\n",
       "    <tr>\n",
       "      <th>2</th>\n",
       "      <td>EZYV03</td>\n",
       "      <td>Asia</td>\n",
       "      <td>Bachelor's</td>\n",
       "      <td>N</td>\n",
       "      <td>Y</td>\n",
       "      <td>44444</td>\n",
       "      <td>2008</td>\n",
       "      <td>West</td>\n",
       "      <td>122996.8600</td>\n",
       "      <td>Year</td>\n",
       "      <td>Y</td>\n",
       "      <td>Denied</td>\n",
       "    </tr>\n",
       "    <tr>\n",
       "      <th>3</th>\n",
       "      <td>EZYV04</td>\n",
       "      <td>Asia</td>\n",
       "      <td>Bachelor's</td>\n",
       "      <td>N</td>\n",
       "      <td>N</td>\n",
       "      <td>98</td>\n",
       "      <td>1897</td>\n",
       "      <td>West</td>\n",
       "      <td>83434.0300</td>\n",
       "      <td>Year</td>\n",
       "      <td>Y</td>\n",
       "      <td>Denied</td>\n",
       "    </tr>\n",
       "    <tr>\n",
       "      <th>4</th>\n",
       "      <td>EZYV05</td>\n",
       "      <td>Africa</td>\n",
       "      <td>Master's</td>\n",
       "      <td>Y</td>\n",
       "      <td>N</td>\n",
       "      <td>1082</td>\n",
       "      <td>2005</td>\n",
       "      <td>South</td>\n",
       "      <td>149907.3900</td>\n",
       "      <td>Year</td>\n",
       "      <td>Y</td>\n",
       "      <td>Certified</td>\n",
       "    </tr>\n",
       "  </tbody>\n",
       "</table>\n",
       "</div>"
      ],
      "text/plain": [
       "  case_id continent education_of_employee has_job_experience  \\\n",
       "0  EZYV01      Asia           High School                  N   \n",
       "1  EZYV02      Asia              Master's                  Y   \n",
       "2  EZYV03      Asia            Bachelor's                  N   \n",
       "3  EZYV04      Asia            Bachelor's                  N   \n",
       "4  EZYV05    Africa              Master's                  Y   \n",
       "\n",
       "  requires_job_training  no_of_employees  yr_of_estab region_of_employment  \\\n",
       "0                     N            14513         2007                 West   \n",
       "1                     N             2412         2002            Northeast   \n",
       "2                     Y            44444         2008                 West   \n",
       "3                     N               98         1897                 West   \n",
       "4                     N             1082         2005                South   \n",
       "\n",
       "   prevailing_wage unit_of_wage full_time_position case_status  \n",
       "0         592.2029         Hour                  Y      Denied  \n",
       "1       83425.6500         Year                  Y   Certified  \n",
       "2      122996.8600         Year                  Y      Denied  \n",
       "3       83434.0300         Year                  Y      Denied  \n",
       "4      149907.3900         Year                  Y   Certified  "
      ]
     },
     "execution_count": 4,
     "metadata": {},
     "output_type": "execute_result"
    }
   ],
   "source": [
    "data.head()"
   ]
  },
  {
   "cell_type": "code",
   "execution_count": 5,
   "id": "descending-david",
   "metadata": {
    "id": "descending-david"
   },
   "outputs": [
    {
     "data": {
      "text/html": [
       "<div>\n",
       "<style scoped>\n",
       "    .dataframe tbody tr th:only-of-type {\n",
       "        vertical-align: middle;\n",
       "    }\n",
       "\n",
       "    .dataframe tbody tr th {\n",
       "        vertical-align: top;\n",
       "    }\n",
       "\n",
       "    .dataframe thead th {\n",
       "        text-align: right;\n",
       "    }\n",
       "</style>\n",
       "<table border=\"1\" class=\"dataframe\">\n",
       "  <thead>\n",
       "    <tr style=\"text-align: right;\">\n",
       "      <th></th>\n",
       "      <th>case_id</th>\n",
       "      <th>continent</th>\n",
       "      <th>education_of_employee</th>\n",
       "      <th>has_job_experience</th>\n",
       "      <th>requires_job_training</th>\n",
       "      <th>no_of_employees</th>\n",
       "      <th>yr_of_estab</th>\n",
       "      <th>region_of_employment</th>\n",
       "      <th>prevailing_wage</th>\n",
       "      <th>unit_of_wage</th>\n",
       "      <th>full_time_position</th>\n",
       "      <th>case_status</th>\n",
       "    </tr>\n",
       "  </thead>\n",
       "  <tbody>\n",
       "    <tr>\n",
       "      <th>25475</th>\n",
       "      <td>EZYV25476</td>\n",
       "      <td>Asia</td>\n",
       "      <td>Bachelor's</td>\n",
       "      <td>Y</td>\n",
       "      <td>Y</td>\n",
       "      <td>2601</td>\n",
       "      <td>2008</td>\n",
       "      <td>South</td>\n",
       "      <td>77092.57</td>\n",
       "      <td>Year</td>\n",
       "      <td>Y</td>\n",
       "      <td>Certified</td>\n",
       "    </tr>\n",
       "    <tr>\n",
       "      <th>25476</th>\n",
       "      <td>EZYV25477</td>\n",
       "      <td>Asia</td>\n",
       "      <td>High School</td>\n",
       "      <td>Y</td>\n",
       "      <td>N</td>\n",
       "      <td>3274</td>\n",
       "      <td>2006</td>\n",
       "      <td>Northeast</td>\n",
       "      <td>279174.79</td>\n",
       "      <td>Year</td>\n",
       "      <td>Y</td>\n",
       "      <td>Certified</td>\n",
       "    </tr>\n",
       "    <tr>\n",
       "      <th>25477</th>\n",
       "      <td>EZYV25478</td>\n",
       "      <td>Asia</td>\n",
       "      <td>Master's</td>\n",
       "      <td>Y</td>\n",
       "      <td>N</td>\n",
       "      <td>1121</td>\n",
       "      <td>1910</td>\n",
       "      <td>South</td>\n",
       "      <td>146298.85</td>\n",
       "      <td>Year</td>\n",
       "      <td>N</td>\n",
       "      <td>Certified</td>\n",
       "    </tr>\n",
       "    <tr>\n",
       "      <th>25478</th>\n",
       "      <td>EZYV25479</td>\n",
       "      <td>Asia</td>\n",
       "      <td>Master's</td>\n",
       "      <td>Y</td>\n",
       "      <td>Y</td>\n",
       "      <td>1918</td>\n",
       "      <td>1887</td>\n",
       "      <td>West</td>\n",
       "      <td>86154.77</td>\n",
       "      <td>Year</td>\n",
       "      <td>Y</td>\n",
       "      <td>Certified</td>\n",
       "    </tr>\n",
       "    <tr>\n",
       "      <th>25479</th>\n",
       "      <td>EZYV25480</td>\n",
       "      <td>Asia</td>\n",
       "      <td>Bachelor's</td>\n",
       "      <td>Y</td>\n",
       "      <td>N</td>\n",
       "      <td>3195</td>\n",
       "      <td>1960</td>\n",
       "      <td>Midwest</td>\n",
       "      <td>70876.91</td>\n",
       "      <td>Year</td>\n",
       "      <td>Y</td>\n",
       "      <td>Certified</td>\n",
       "    </tr>\n",
       "  </tbody>\n",
       "</table>\n",
       "</div>"
      ],
      "text/plain": [
       "         case_id continent education_of_employee has_job_experience  \\\n",
       "25475  EZYV25476      Asia            Bachelor's                  Y   \n",
       "25476  EZYV25477      Asia           High School                  Y   \n",
       "25477  EZYV25478      Asia              Master's                  Y   \n",
       "25478  EZYV25479      Asia              Master's                  Y   \n",
       "25479  EZYV25480      Asia            Bachelor's                  Y   \n",
       "\n",
       "      requires_job_training  no_of_employees  yr_of_estab  \\\n",
       "25475                     Y             2601         2008   \n",
       "25476                     N             3274         2006   \n",
       "25477                     N             1121         1910   \n",
       "25478                     Y             1918         1887   \n",
       "25479                     N             3195         1960   \n",
       "\n",
       "      region_of_employment  prevailing_wage unit_of_wage full_time_position  \\\n",
       "25475                South         77092.57         Year                  Y   \n",
       "25476            Northeast        279174.79         Year                  Y   \n",
       "25477                South        146298.85         Year                  N   \n",
       "25478                 West         86154.77         Year                  Y   \n",
       "25479              Midwest         70876.91         Year                  Y   \n",
       "\n",
       "      case_status  \n",
       "25475   Certified  \n",
       "25476   Certified  \n",
       "25477   Certified  \n",
       "25478   Certified  \n",
       "25479   Certified  "
      ]
     },
     "execution_count": 5,
     "metadata": {},
     "output_type": "execute_result"
    }
   ],
   "source": [
    "data.tail() "
   ]
  },
  {
   "cell_type": "code",
   "execution_count": 6,
   "id": "regulation-elder",
   "metadata": {
    "id": "regulation-elder"
   },
   "outputs": [
    {
     "data": {
      "text/plain": [
       "(25480, 12)"
      ]
     },
     "execution_count": 6,
     "metadata": {},
     "output_type": "execute_result"
    }
   ],
   "source": [
    "data.shape"
   ]
  },
  {
   "cell_type": "code",
   "execution_count": 7,
   "id": "judicial-institute",
   "metadata": {
    "id": "judicial-institute"
   },
   "outputs": [
    {
     "name": "stdout",
     "output_type": "stream",
     "text": [
      "<class 'pandas.core.frame.DataFrame'>\n",
      "RangeIndex: 25480 entries, 0 to 25479\n",
      "Data columns (total 12 columns):\n",
      " #   Column                 Non-Null Count  Dtype  \n",
      "---  ------                 --------------  -----  \n",
      " 0   case_id                25480 non-null  object \n",
      " 1   continent              25480 non-null  object \n",
      " 2   education_of_employee  25480 non-null  object \n",
      " 3   has_job_experience     25480 non-null  object \n",
      " 4   requires_job_training  25480 non-null  object \n",
      " 5   no_of_employees        25480 non-null  int64  \n",
      " 6   yr_of_estab            25480 non-null  int64  \n",
      " 7   region_of_employment   25480 non-null  object \n",
      " 8   prevailing_wage        25480 non-null  float64\n",
      " 9   unit_of_wage           25480 non-null  object \n",
      " 10  full_time_position     25480 non-null  object \n",
      " 11  case_status            25480 non-null  object \n",
      "dtypes: float64(1), int64(2), object(9)\n",
      "memory usage: 2.3+ MB\n"
     ]
    }
   ],
   "source": [
    "data.info()"
   ]
  },
  {
   "cell_type": "markdown",
   "id": "0e9eb070",
   "metadata": {},
   "source": [
    "- There are object interger and float data types"
   ]
  },
  {
   "cell_type": "code",
   "execution_count": 8,
   "id": "going-validation",
   "metadata": {
    "id": "going-validation"
   },
   "outputs": [
    {
     "data": {
      "text/plain": [
       "0"
      ]
     },
     "execution_count": 8,
     "metadata": {},
     "output_type": "execute_result"
    }
   ],
   "source": [
    "# checking for duplicate values\n",
    "data.duplicated().sum() "
   ]
  },
  {
   "cell_type": "markdown",
   "id": "84976342",
   "metadata": {},
   "source": [
    "- There is no duplicated values"
   ]
  },
  {
   "cell_type": "markdown",
   "id": "standing-horizontal",
   "metadata": {
    "id": "standing-horizontal"
   },
   "source": [
    "## Exploratory Data Analysis"
   ]
  },
  {
   "cell_type": "markdown",
   "id": "american-venue",
   "metadata": {
    "id": "american-venue"
   },
   "source": [
    "####  summary of the data"
   ]
  },
  {
   "cell_type": "code",
   "execution_count": 9,
   "id": "premium-wagner",
   "metadata": {
    "id": "premium-wagner"
   },
   "outputs": [
    {
     "data": {
      "text/html": [
       "<div>\n",
       "<style scoped>\n",
       "    .dataframe tbody tr th:only-of-type {\n",
       "        vertical-align: middle;\n",
       "    }\n",
       "\n",
       "    .dataframe tbody tr th {\n",
       "        vertical-align: top;\n",
       "    }\n",
       "\n",
       "    .dataframe thead th {\n",
       "        text-align: right;\n",
       "    }\n",
       "</style>\n",
       "<table border=\"1\" class=\"dataframe\">\n",
       "  <thead>\n",
       "    <tr style=\"text-align: right;\">\n",
       "      <th></th>\n",
       "      <th>count</th>\n",
       "      <th>mean</th>\n",
       "      <th>std</th>\n",
       "      <th>min</th>\n",
       "      <th>25%</th>\n",
       "      <th>50%</th>\n",
       "      <th>75%</th>\n",
       "      <th>max</th>\n",
       "    </tr>\n",
       "  </thead>\n",
       "  <tbody>\n",
       "    <tr>\n",
       "      <th>no_of_employees</th>\n",
       "      <td>25480.0</td>\n",
       "      <td>5667.043210</td>\n",
       "      <td>22877.928848</td>\n",
       "      <td>-26.0000</td>\n",
       "      <td>1022.00</td>\n",
       "      <td>2109.00</td>\n",
       "      <td>3504.0000</td>\n",
       "      <td>602069.00</td>\n",
       "    </tr>\n",
       "    <tr>\n",
       "      <th>yr_of_estab</th>\n",
       "      <td>25480.0</td>\n",
       "      <td>1979.409929</td>\n",
       "      <td>42.366929</td>\n",
       "      <td>1800.0000</td>\n",
       "      <td>1976.00</td>\n",
       "      <td>1997.00</td>\n",
       "      <td>2005.0000</td>\n",
       "      <td>2016.00</td>\n",
       "    </tr>\n",
       "    <tr>\n",
       "      <th>prevailing_wage</th>\n",
       "      <td>25480.0</td>\n",
       "      <td>74455.814592</td>\n",
       "      <td>52815.942327</td>\n",
       "      <td>2.1367</td>\n",
       "      <td>34015.48</td>\n",
       "      <td>70308.21</td>\n",
       "      <td>107735.5125</td>\n",
       "      <td>319210.27</td>\n",
       "    </tr>\n",
       "  </tbody>\n",
       "</table>\n",
       "</div>"
      ],
      "text/plain": [
       "                   count          mean           std        min       25%  \\\n",
       "no_of_employees  25480.0   5667.043210  22877.928848   -26.0000   1022.00   \n",
       "yr_of_estab      25480.0   1979.409929     42.366929  1800.0000   1976.00   \n",
       "prevailing_wage  25480.0  74455.814592  52815.942327     2.1367  34015.48   \n",
       "\n",
       "                      50%          75%        max  \n",
       "no_of_employees   2109.00    3504.0000  602069.00  \n",
       "yr_of_estab       1997.00    2005.0000    2016.00  \n",
       "prevailing_wage  70308.21  107735.5125  319210.27  "
      ]
     },
     "execution_count": 9,
     "metadata": {},
     "output_type": "execute_result"
    }
   ],
   "source": [
    "data.describe().T"
   ]
  },
  {
   "cell_type": "markdown",
   "id": "d9e540ec",
   "metadata": {},
   "source": [
    "- On an average there 5667 employees in a company. There are outliers on either side. We can see minimum employees negative which has to be treated\n",
    "- Most of the company was established in and around 1979."
   ]
  },
  {
   "cell_type": "markdown",
   "id": "competent-timing",
   "metadata": {
    "id": "competent-timing"
   },
   "source": [
    "#### Fixing the negative values in number of employees columns"
   ]
  },
  {
   "cell_type": "code",
   "execution_count": 10,
   "id": "whole-saying",
   "metadata": {
    "id": "whole-saying"
   },
   "outputs": [
    {
     "data": {
      "text/plain": [
       "(33, 12)"
      ]
     },
     "execution_count": 10,
     "metadata": {},
     "output_type": "execute_result"
    }
   ],
   "source": [
    "data.loc[data.no_of_employees<0].shape "
   ]
  },
  {
   "cell_type": "markdown",
   "id": "6f39195f",
   "metadata": {},
   "source": [
    "- There are 33 negative values in the employee column"
   ]
  },
  {
   "cell_type": "code",
   "execution_count": 11,
   "id": "prescription-bosnia",
   "metadata": {
    "id": "prescription-bosnia"
   },
   "outputs": [],
   "source": [
    "# taking the absolute values for number of employees\n",
    "data[\"no_of_employees\"] = abs(data[\"no_of_employees\"])"
   ]
  },
  {
   "cell_type": "markdown",
   "id": "cutting-bookmark",
   "metadata": {
    "id": "cutting-bookmark"
   },
   "source": [
    "#### Let's check the count of each unique category in each of the categorical variables"
   ]
  },
  {
   "cell_type": "code",
   "execution_count": 12,
   "id": "minute-helmet",
   "metadata": {
    "id": "minute-helmet"
   },
   "outputs": [
    {
     "name": "stdout",
     "output_type": "stream",
     "text": [
      "EZYV16976    1\n",
      "EZYV24321    1\n",
      "EZYV4108     1\n",
      "EZYV11463    1\n",
      "EZYV7405     1\n",
      "            ..\n",
      "EZYV4015     1\n",
      "EZYV19701    1\n",
      "EZYV22398    1\n",
      "EZYV17379    1\n",
      "EZYV11359    1\n",
      "Name: case_id, Length: 25480, dtype: int64\n",
      "--------------------------------------------------\n",
      "Asia             16861\n",
      "Europe            3732\n",
      "North America     3292\n",
      "South America      852\n",
      "Africa             551\n",
      "Oceania            192\n",
      "Name: continent, dtype: int64\n",
      "--------------------------------------------------\n",
      "Bachelor's     10234\n",
      "Master's        9634\n",
      "High School     3420\n",
      "Doctorate       2192\n",
      "Name: education_of_employee, dtype: int64\n",
      "--------------------------------------------------\n",
      "Y    14802\n",
      "N    10678\n",
      "Name: has_job_experience, dtype: int64\n",
      "--------------------------------------------------\n",
      "N    22525\n",
      "Y     2955\n",
      "Name: requires_job_training, dtype: int64\n",
      "--------------------------------------------------\n",
      "Northeast    7195\n",
      "South        7017\n",
      "West         6586\n",
      "Midwest      4307\n",
      "Island        375\n",
      "Name: region_of_employment, dtype: int64\n",
      "--------------------------------------------------\n",
      "Year     22962\n",
      "Hour      2157\n",
      "Week       272\n",
      "Month       89\n",
      "Name: unit_of_wage, dtype: int64\n",
      "--------------------------------------------------\n",
      "Y    22773\n",
      "N     2707\n",
      "Name: full_time_position, dtype: int64\n",
      "--------------------------------------------------\n",
      "Certified    17018\n",
      "Denied        8462\n",
      "Name: case_status, dtype: int64\n",
      "--------------------------------------------------\n"
     ]
    }
   ],
   "source": [
    "# Making a list of all catrgorical variables\n",
    "cat_col = list(data.select_dtypes(\"object\").columns)\n",
    "\n",
    "\n",
    "for column in cat_col:\n",
    "    print(data[column].value_counts())\n",
    "    print(\"-\" * 50)"
   ]
  },
  {
   "cell_type": "code",
   "execution_count": 13,
   "id": "occupied-classroom",
   "metadata": {
    "id": "occupied-classroom"
   },
   "outputs": [
    {
     "data": {
      "text/plain": [
       "25480"
      ]
     },
     "execution_count": 13,
     "metadata": {},
     "output_type": "execute_result"
    }
   ],
   "source": [
    "# checking the number of unique values\n",
    "data[\"case_id\"].nunique()"
   ]
  },
  {
   "cell_type": "code",
   "execution_count": 14,
   "id": "existing-sociology",
   "metadata": {
    "id": "existing-sociology"
   },
   "outputs": [],
   "source": [
    "# Since all fields are unique droping the case_id column\n",
    "data.drop([\"case_id\"], axis=1, inplace=True) "
   ]
  },
  {
   "cell_type": "markdown",
   "id": "wooden-christian",
   "metadata": {
    "id": "wooden-christian"
   },
   "source": [
    "### Univariate Analysis"
   ]
  },
  {
   "cell_type": "code",
   "execution_count": 15,
   "id": "superb-springfield",
   "metadata": {
    "id": "superb-springfield"
   },
   "outputs": [],
   "source": [
    "def histogram_boxplot(data, feature, figsize=(10, 7), kde=False, bins=None):\n",
    "    \"\"\"\n",
    "    Boxplot and histogram combined\n",
    "\n",
    "    data: dataframe\n",
    "    feature: dataframe column\n",
    "    figsize: size of figure (default (15,10))\n",
    "    kde: whether to show the density curve (default False)\n",
    "    bins: number of bins for histogram (default None)\n",
    "    \"\"\"\n",
    "    f2, (ax_box2, ax_hist2) = plt.subplots(\n",
    "        nrows=2,  # Number of rows of the subplot grid= 2\n",
    "        sharex=True,  # x-axis will be shared among all subplots\n",
    "        gridspec_kw={\"height_ratios\": (0.25, 0.75)},\n",
    "        figsize=figsize,\n",
    "    )  # creating the 2 subplots\n",
    "    sns.boxplot(\n",
    "        data=data, x=feature, ax=ax_box2, showmeans=True, color=\"violet\"\n",
    "    )  # boxplot will be created and a triangle will indicate the mean value of the column\n",
    "    sns.histplot(\n",
    "        data=data, x=feature, kde=kde, ax=ax_hist2, bins=bins\n",
    "    ) if bins else sns.histplot(\n",
    "        data=data, x=feature, kde=kde, ax=ax_hist2\n",
    "    )  # For histogram\n",
    "    ax_hist2.axvline(\n",
    "        data[feature].mean(), color=\"green\", linestyle=\"--\"\n",
    "    )  # Add mean to the histogram\n",
    "    ax_hist2.axvline(\n",
    "        data[feature].median(), color=\"black\", linestyle=\"-\"\n",
    "    )  # Add median to the histogram"
   ]
  },
  {
   "cell_type": "markdown",
   "id": "comic-inventory",
   "metadata": {
    "id": "comic-inventory"
   },
   "source": [
    "#### Observations on number of employees"
   ]
  },
  {
   "cell_type": "code",
   "execution_count": 16,
   "id": "loaded-commercial",
   "metadata": {
    "id": "loaded-commercial"
   },
   "outputs": [
    {
     "data": {
      "image/png": "[encoded data removed]",
      "text/plain": [
       "<Figure size 720x504 with 2 Axes>"
      ]
     },
     "metadata": {
      "needs_background": "light"
     },
     "output_type": "display_data"
    }
   ],
   "source": [
    "histogram_boxplot(data, \"no_of_employees\")"
   ]
  },
  {
   "cell_type": "markdown",
   "id": "4e3f8b19",
   "metadata": {},
   "source": [
    "-Number of employees employed has a lot of outliers."
   ]
  },
  {
   "cell_type": "markdown",
   "id": "metric-apparel",
   "metadata": {
    "id": "metric-apparel"
   },
   "source": [
    "#### Observations on prevailing wage"
   ]
  },
  {
   "cell_type": "code",
   "execution_count": 17,
   "id": "duplicate-theater",
   "metadata": {
    "id": "duplicate-theater"
   },
   "outputs": [
    {
     "data": {
      "image/png": "[encoded data removed]",
      "text/plain": [
       "<Figure size 720x504 with 2 Axes>"
      ]
     },
     "metadata": {
      "needs_background": "light"
     },
     "output_type": "display_data"
    }
   ],
   "source": [
    "histogram_boxplot(data,'prevailing_wage') "
   ]
  },
  {
   "cell_type": "markdown",
   "id": "0cf6448d",
   "metadata": {},
   "source": []
  },
  {
   "cell_type": "code",
   "execution_count": 18,
   "id": "legendary-stone",
   "metadata": {
    "id": "legendary-stone"
   },
   "outputs": [
    {
     "data": {
      "text/html": [
       "<div>\n",
       "<style scoped>\n",
       "    .dataframe tbody tr th:only-of-type {\n",
       "        vertical-align: middle;\n",
       "    }\n",
       "\n",
       "    .dataframe tbody tr th {\n",
       "        vertical-align: top;\n",
       "    }\n",
       "\n",
       "    .dataframe thead th {\n",
       "        text-align: right;\n",
       "    }\n",
       "</style>\n",
       "<table border=\"1\" class=\"dataframe\">\n",
       "  <thead>\n",
       "    <tr style=\"text-align: right;\">\n",
       "      <th></th>\n",
       "      <th>continent</th>\n",
       "      <th>education_of_employee</th>\n",
       "      <th>has_job_experience</th>\n",
       "      <th>requires_job_training</th>\n",
       "      <th>no_of_employees</th>\n",
       "      <th>yr_of_estab</th>\n",
       "      <th>region_of_employment</th>\n",
       "      <th>prevailing_wage</th>\n",
       "      <th>unit_of_wage</th>\n",
       "      <th>full_time_position</th>\n",
       "      <th>case_status</th>\n",
       "    </tr>\n",
       "  </thead>\n",
       "  <tbody>\n",
       "    <tr>\n",
       "      <th>338</th>\n",
       "      <td>Asia</td>\n",
       "      <td>Bachelor's</td>\n",
       "      <td>Y</td>\n",
       "      <td>N</td>\n",
       "      <td>2114</td>\n",
       "      <td>2012</td>\n",
       "      <td>Northeast</td>\n",
       "      <td>15.7716</td>\n",
       "      <td>Hour</td>\n",
       "      <td>Y</td>\n",
       "      <td>Certified</td>\n",
       "    </tr>\n",
       "    <tr>\n",
       "      <th>634</th>\n",
       "      <td>Asia</td>\n",
       "      <td>Master's</td>\n",
       "      <td>N</td>\n",
       "      <td>N</td>\n",
       "      <td>834</td>\n",
       "      <td>1977</td>\n",
       "      <td>Northeast</td>\n",
       "      <td>3.3188</td>\n",
       "      <td>Hour</td>\n",
       "      <td>Y</td>\n",
       "      <td>Denied</td>\n",
       "    </tr>\n",
       "    <tr>\n",
       "      <th>839</th>\n",
       "      <td>Asia</td>\n",
       "      <td>High School</td>\n",
       "      <td>Y</td>\n",
       "      <td>N</td>\n",
       "      <td>4537</td>\n",
       "      <td>1999</td>\n",
       "      <td>West</td>\n",
       "      <td>61.1329</td>\n",
       "      <td>Hour</td>\n",
       "      <td>Y</td>\n",
       "      <td>Denied</td>\n",
       "    </tr>\n",
       "    <tr>\n",
       "      <th>876</th>\n",
       "      <td>South America</td>\n",
       "      <td>Bachelor's</td>\n",
       "      <td>Y</td>\n",
       "      <td>N</td>\n",
       "      <td>731</td>\n",
       "      <td>2004</td>\n",
       "      <td>Northeast</td>\n",
       "      <td>82.0029</td>\n",
       "      <td>Hour</td>\n",
       "      <td>Y</td>\n",
       "      <td>Denied</td>\n",
       "    </tr>\n",
       "    <tr>\n",
       "      <th>995</th>\n",
       "      <td>Asia</td>\n",
       "      <td>Master's</td>\n",
       "      <td>N</td>\n",
       "      <td>N</td>\n",
       "      <td>302</td>\n",
       "      <td>2000</td>\n",
       "      <td>South</td>\n",
       "      <td>47.4872</td>\n",
       "      <td>Hour</td>\n",
       "      <td>Y</td>\n",
       "      <td>Certified</td>\n",
       "    </tr>\n",
       "  </tbody>\n",
       "</table>\n",
       "</div>"
      ],
      "text/plain": [
       "         continent education_of_employee has_job_experience  \\\n",
       "338           Asia            Bachelor's                  Y   \n",
       "634           Asia              Master's                  N   \n",
       "839           Asia           High School                  Y   \n",
       "876  South America            Bachelor's                  Y   \n",
       "995           Asia              Master's                  N   \n",
       "\n",
       "    requires_job_training  no_of_employees  yr_of_estab region_of_employment  \\\n",
       "338                     N             2114         2012            Northeast   \n",
       "634                     N              834         1977            Northeast   \n",
       "839                     N             4537         1999                 West   \n",
       "876                     N              731         2004            Northeast   \n",
       "995                     N              302         2000                South   \n",
       "\n",
       "     prevailing_wage unit_of_wage full_time_position case_status  \n",
       "338          15.7716         Hour                  Y   Certified  \n",
       "634           3.3188         Hour                  Y      Denied  \n",
       "839          61.1329         Hour                  Y      Denied  \n",
       "876          82.0029         Hour                  Y      Denied  \n",
       "995          47.4872         Hour                  Y   Certified  "
      ]
     },
     "execution_count": 18,
     "metadata": {},
     "output_type": "execute_result"
    }
   ],
   "source": [
    "# checking the observations which have less than 100 prevailing wage\n",
    "data.loc[data.prevailing_wage<100].head()"
   ]
  },
  {
   "cell_type": "code",
   "execution_count": 19,
   "id": "18c5d164",
   "metadata": {},
   "outputs": [
    {
     "data": {
      "text/plain": [
       "Year     22962\n",
       "Hour      2157\n",
       "Week       272\n",
       "Month       89\n",
       "Name: unit_of_wage, dtype: int64"
      ]
     },
     "execution_count": 19,
     "metadata": {},
     "output_type": "execute_result"
    }
   ],
   "source": [
    "df['unit_of_wage'].value_counts()"
   ]
  },
  {
   "cell_type": "code",
   "execution_count": 20,
   "id": "handmade-carroll",
   "metadata": {
    "id": "handmade-carroll"
   },
   "outputs": [
    {
     "data": {
      "text/plain": [
       "Hour    176\n",
       "Name: unit_of_wage, dtype: int64"
      ]
     },
     "execution_count": 20,
     "metadata": {},
     "output_type": "execute_result"
    }
   ],
   "source": [
    "data.loc[data[\"prevailing_wage\"] < 100, \"unit_of_wage\"].value_counts() "
   ]
  },
  {
   "cell_type": "code",
   "execution_count": 21,
   "id": "proof-drove",
   "metadata": {
    "id": "proof-drove"
   },
   "outputs": [],
   "source": [
    "# function to create labeled barplots\n",
    "\n",
    "\n",
    "def labeled_barplot(data, feature, perc=False, n=None):\n",
    "    \"\"\"\n",
    "    Barplot with percentage at the top\n",
    "\n",
    "    data: dataframe\n",
    "    feature: dataframe column\n",
    "    perc: whether to display percentages instead of count (default is False)\n",
    "    n: displays the top n category levels (default is None, i.e., display all levels)\n",
    "    \"\"\"\n",
    "\n",
    "    total = len(data[feature])  # length of the column\n",
    "    count = data[feature].nunique()\n",
    "    if n is None:\n",
    "        plt.figure(figsize=(count + 2, 6))\n",
    "    else:\n",
    "        plt.figure(figsize=(n + 2, 6))\n",
    "\n",
    "    plt.xticks(rotation=90, fontsize=15)\n",
    "    ax = sns.countplot(\n",
    "        data=data,\n",
    "        x=feature,\n",
    "        palette=\"Paired\",\n",
    "        order=data[feature].value_counts().index[:n],\n",
    "    )\n",
    "\n",
    "    for p in ax.patches:\n",
    "        if perc == True:\n",
    "            label = \"{:.1f}%\".format(\n",
    "                100 * p.get_height() / total\n",
    "            )  # percentage of each class of the category\n",
    "        else:\n",
    "            label = p.get_height()  # count of each level of the category\n",
    "\n",
    "        x = p.get_x() + p.get_width() / 2  # width of the plot\n",
    "        y = p.get_height()  # height of the plot\n",
    "\n",
    "        ax.annotate(\n",
    "            label,\n",
    "            (x, y),\n",
    "            ha=\"center\",\n",
    "            va=\"center\",\n",
    "            size=12,\n",
    "            xytext=(0, 5),\n",
    "            textcoords=\"offset points\",\n",
    "        )  # annotate the percentage\n",
    "\n",
    "    plt.show()  "
   ]
  },
  {
   "cell_type": "markdown",
   "id": "bulgarian-parts",
   "metadata": {
    "id": "bulgarian-parts"
   },
   "source": [
    "#### Observations on continent"
   ]
  },
  {
   "cell_type": "code",
   "execution_count": 22,
   "id": "artistic-accounting",
   "metadata": {
    "id": "artistic-accounting"
   },
   "outputs": [
    {
     "data": {
      "image/png": "[encoded data removed]",
      "text/plain": [
       "<Figure size 576x432 with 1 Axes>"
      ]
     },
     "metadata": {
      "needs_background": "light"
     },
     "output_type": "display_data"
    }
   ],
   "source": [
    "labeled_barplot(data, \"continent\", perc=True) "
   ]
  },
  {
   "cell_type": "markdown",
   "id": "5c5927f9",
   "metadata": {},
   "source": [
    "- 66% of the employee are from Asia followed by Europe\n",
    "- Less tham 1% of the employees are from Oceania"
   ]
  },
  {
   "cell_type": "markdown",
   "id": "editorial-command",
   "metadata": {
    "id": "editorial-command"
   },
   "source": [
    "#### Observations on education of employee"
   ]
  },
  {
   "cell_type": "code",
   "execution_count": 23,
   "id": "express-harrison",
   "metadata": {
    "id": "express-harrison"
   },
   "outputs": [
    {
     "data": {
      "image/png": "[encoded data removed]",
      "text/plain": [
       "<Figure size 432x432 with 1 Axes>"
      ]
     },
     "metadata": {
      "needs_background": "light"
     },
     "output_type": "display_data"
    }
   ],
   "source": [
    "labeled_barplot(data, \"education_of_employee\", perc=True) "
   ]
  },
  {
   "cell_type": "markdown",
   "id": "e0345752",
   "metadata": {},
   "source": [
    "- 40% of the employees hold a Bachelor's degree and 37.8 percent holds a Master's degree"
   ]
  },
  {
   "cell_type": "markdown",
   "id": "forbidden-kidney",
   "metadata": {
    "id": "forbidden-kidney"
   },
   "source": [
    "#### Observations on job experience"
   ]
  },
  {
   "cell_type": "code",
   "execution_count": 24,
   "id": "exterior-rings",
   "metadata": {
    "id": "exterior-rings"
   },
   "outputs": [
    {
     "data": {
      "image/png": "[encoded data removed]",
      "text/plain": [
       "<Figure size 288x432 with 1 Axes>"
      ]
     },
     "metadata": {
      "needs_background": "light"
     },
     "output_type": "display_data"
    }
   ],
   "source": [
    "labeled_barplot(data, \"has_job_experience\", perc=True) "
   ]
  },
  {
   "cell_type": "markdown",
   "id": "0df966e2",
   "metadata": {},
   "source": [
    "- 58% of the employees are experienced"
   ]
  },
  {
   "cell_type": "markdown",
   "id": "amateur-above",
   "metadata": {
    "id": "amateur-above"
   },
   "source": [
    "#### Observations on job training"
   ]
  },
  {
   "cell_type": "code",
   "execution_count": 25,
   "id": "serial-irrigation",
   "metadata": {
    "id": "serial-irrigation",
    "scrolled": false
   },
   "outputs": [
    {
     "data": {
      "image/png": "[encoded data removed]",
      "text/plain": [
       "<Figure size 288x432 with 1 Axes>"
      ]
     },
     "metadata": {
      "needs_background": "light"
     },
     "output_type": "display_data"
    }
   ],
   "source": [
    "labeled_barplot(data, \"requires_job_training\", perc=True) "
   ]
  },
  {
   "cell_type": "markdown",
   "id": "26c1e4c8",
   "metadata": {},
   "source": [
    "- Even though onlu 58% of the employees are experienced,a job training is required only for 11.6% of employees"
   ]
  },
  {
   "cell_type": "markdown",
   "id": "attempted-burlington",
   "metadata": {
    "id": "attempted-burlington"
   },
   "source": [
    "#### Observations on region of employment"
   ]
  },
  {
   "cell_type": "code",
   "execution_count": 26,
   "id": "suited-tuner",
   "metadata": {
    "id": "suited-tuner"
   },
   "outputs": [
    {
     "data": {
      "image/png": "[encoded data removed]",
      "text/plain": [
       "<Figure size 504x432 with 1 Axes>"
      ]
     },
     "metadata": {
      "needs_background": "light"
     },
     "output_type": "display_data"
    }
   ],
   "source": [
    "labeled_barplot(data, \"region_of_employment\", perc=True) "
   ]
  },
  {
   "cell_type": "markdown",
   "id": "ac1928a7",
   "metadata": {},
   "source": [
    "- Most of hte woekers prefer Northeast then South followed by west US. However, Islands are the least preffered."
   ]
  },
  {
   "cell_type": "markdown",
   "id": "aging-curve",
   "metadata": {
    "id": "aging-curve"
   },
   "source": [
    "#### Observations on unit of wage"
   ]
  },
  {
   "cell_type": "code",
   "execution_count": 27,
   "id": "modified-breed",
   "metadata": {
    "id": "modified-breed"
   },
   "outputs": [
    {
     "data": {
      "image/png": "[encoded data removed]",
      "text/plain": [
       "<Figure size 432x432 with 1 Axes>"
      ]
     },
     "metadata": {
      "needs_background": "light"
     },
     "output_type": "display_data"
    }
   ],
   "source": [
    "labeled_barplot(data, \"unit_of_wage\", perc=True) "
   ]
  },
  {
   "cell_type": "markdown",
   "id": "86316ed9",
   "metadata": {},
   "source": [
    "- Most of the employees are given their wages on yearly baisis"
   ]
  },
  {
   "cell_type": "markdown",
   "id": "stunning-surrey",
   "metadata": {
    "id": "stunning-surrey"
   },
   "source": [
    "#### Observations on case status"
   ]
  },
  {
   "cell_type": "code",
   "execution_count": 28,
   "id": "potential-stroke",
   "metadata": {
    "id": "potential-stroke"
   },
   "outputs": [
    {
     "data": {
      "image/png": "[encoded data removed]",
      "text/plain": [
       "<Figure size 288x432 with 1 Axes>"
      ]
     },
     "metadata": {
      "needs_background": "light"
     },
     "output_type": "display_data"
    }
   ],
   "source": [
    "labeled_barplot(data, \"case_status\", perc=True)"
   ]
  },
  {
   "cell_type": "markdown",
   "id": "0035aec2",
   "metadata": {},
   "source": [
    "- Of the total people applied 66.8% of them were certified."
   ]
  },
  {
   "cell_type": "markdown",
   "id": "equivalent-aging",
   "metadata": {
    "id": "equivalent-aging"
   },
   "source": [
    "### Bivariate Analysis"
   ]
  },
  {
   "cell_type": "code",
   "execution_count": 29,
   "id": "social-wagner",
   "metadata": {
    "id": "social-wagner"
   },
   "outputs": [
    {
     "data": {
      "image/png": "[encoded data removed]",
      "text/plain": [
       "<Figure size 720x288 with 2 Axes>"
      ]
     },
     "metadata": {
      "needs_background": "light"
     },
     "output_type": "display_data"
    }
   ],
   "source": [
    "cols_list = data.select_dtypes(include=np.number).columns.tolist()\n",
    "\n",
    "plt.figure(figsize=(10, 4))\n",
    "sns.heatmap(\n",
    "    data[cols_list].corr(), annot=True, vmin=-1, vmax=1, fmt=\".2f\", cmap=\"Spectral\"\n",
    ")\n",
    "plt.show()"
   ]
  },
  {
   "cell_type": "markdown",
   "id": "654fd324",
   "metadata": {},
   "source": [
    "- There is no corelation between year of establishment, prevailing wage and number of employees."
   ]
  },
  {
   "cell_type": "markdown",
   "id": "blond-convertible",
   "metadata": {
    "id": "blond-convertible"
   },
   "source": [
    "**Creating functions that will help us with further analysis.**"
   ]
  },
  {
   "cell_type": "code",
   "execution_count": 30,
   "id": "adaptive-recipient",
   "metadata": {
    "id": "adaptive-recipient"
   },
   "outputs": [],
   "source": [
    "### function to plot distributions wrt target\n",
    "\n",
    "\n",
    "def distribution_plot_wrt_target(data, predictor, target):\n",
    "\n",
    "    fig, axs = plt.subplots(2, 2, figsize=(12, 10))\n",
    "\n",
    "    target_uniq = data[target].unique()\n",
    "\n",
    "    axs[0, 0].set_title(\"Distribution of target for target=\" + str(target_uniq[0]))\n",
    "    sns.histplot(\n",
    "        data=data[data[target] == target_uniq[0]],\n",
    "        x=predictor,\n",
    "        kde=True,\n",
    "        ax=axs[0, 0],\n",
    "        color=\"teal\",\n",
    "        stat=\"density\",\n",
    "    )\n",
    "\n",
    "    axs[0, 1].set_title(\"Distribution of target for target=\" + str(target_uniq[1]))\n",
    "    sns.histplot(\n",
    "        data=data[data[target] == target_uniq[1]],\n",
    "        x=predictor,\n",
    "        kde=True,\n",
    "        ax=axs[0, 1],\n",
    "        color=\"orange\",\n",
    "        stat=\"density\",\n",
    "    )\n",
    "\n",
    "    axs[1, 0].set_title(\"Boxplot w.r.t target\")\n",
    "    sns.boxplot(data=data, x=target, y=predictor, ax=axs[1, 0], palette=\"gist_rainbow\")\n",
    "\n",
    "    axs[1, 1].set_title(\"Boxplot (without outliers) w.r.t target\")\n",
    "    sns.boxplot(\n",
    "        data=data,\n",
    "        x=target,\n",
    "        y=predictor,\n",
    "        ax=axs[1, 1],\n",
    "        showfliers=False,\n",
    "        palette=\"gist_rainbow\",\n",
    "    )\n",
    "\n",
    "    plt.tight_layout()\n",
    "    plt.show()"
   ]
  },
  {
   "cell_type": "code",
   "execution_count": 31,
   "id": "third-sheriff",
   "metadata": {
    "id": "third-sheriff"
   },
   "outputs": [],
   "source": [
    "def stacked_barplot(data, predictor, target):\n",
    "    \"\"\"\n",
    "    Print the category counts and plot a stacked bar chart\n",
    "\n",
    "    data: dataframe\n",
    "    predictor: independent variable\n",
    "    target: target variable\n",
    "    \"\"\"\n",
    "    count = data[predictor].nunique()\n",
    "    sorter = data[target].value_counts().index[-1]\n",
    "    tab1 = pd.crosstab(data[predictor], data[target], margins=True).sort_values(\n",
    "        by=sorter, ascending=False\n",
    "    )\n",
    "    print(tab1)\n",
    "    print(\"-\" * 120)\n",
    "    tab = pd.crosstab(data[predictor], data[target], normalize=\"index\").sort_values(\n",
    "        by=sorter, ascending=False\n",
    "    )\n",
    "    tab.plot(kind=\"bar\", stacked=True, figsize=(count + 5, 5))\n",
    "    plt.legend(\n",
    "        loc=\"lower left\", frameon=False,\n",
    "    )\n",
    "    plt.legend(loc=\"upper left\", bbox_to_anchor=(1, 1))\n",
    "    plt.show()"
   ]
  },
  {
   "cell_type": "markdown",
   "id": "dressed-excuse",
   "metadata": {
    "id": "dressed-excuse"
   },
   "source": [
    "#### Impact of education on visa certification"
   ]
  },
  {
   "cell_type": "code",
   "execution_count": 32,
   "id": "special-florist",
   "metadata": {
    "id": "special-florist"
   },
   "outputs": [
    {
     "name": "stdout",
     "output_type": "stream",
     "text": [
      "case_status            Certified  Denied    All\n",
      "education_of_employee                          \n",
      "All                        17018    8462  25480\n",
      "Bachelor's                  6367    3867  10234\n",
      "High School                 1164    2256   3420\n",
      "Master's                    7575    2059   9634\n",
      "Doctorate                   1912     280   2192\n",
      "------------------------------------------------------------------------------------------------------------------------\n"
     ]
    },
    {
     "data": {
      "image/png": "[encoded data removed]",
      "text/plain": [
       "<Figure size 648x360 with 1 Axes>"
      ]
     },
     "metadata": {
      "needs_background": "light"
     },
     "output_type": "display_data"
    }
   ],
   "source": [
    "stacked_barplot(data, \"education_of_employee\", \"case_status\")"
   ]
  },
  {
   "cell_type": "markdown",
   "id": "f51fa84b",
   "metadata": {},
   "source": [
    "- Most of the Denied employees were having only high School as the highest educational qualification\n",
    "- If the employee has Doctrate as the highest qualification then chances of getting ceritified is on the higher side."
   ]
  },
  {
   "cell_type": "markdown",
   "id": "wound-communication",
   "metadata": {
    "id": "wound-communication"
   },
   "source": [
    "#### Region vs Educational background"
   ]
  },
  {
   "cell_type": "code",
   "execution_count": 33,
   "id": "6478e604",
   "metadata": {},
   "outputs": [
    {
     "data": {
      "image/png": "[encoded data removed]",
      "text/plain": [
       "<Figure size 720x360 with 2 Axes>"
      ]
     },
     "metadata": {
      "needs_background": "light"
     },
     "output_type": "display_data"
    }
   ],
   "source": [
    "plt.figure(figsize=(10, 5))\n",
    "sns.heatmap(pd.crosstab(data.education_of_employee,data.region_of_employment),\n",
    "    annot=True,\n",
    "    fmt=\"g\",\n",
    "    cmap=\"viridis\"\n",
    ") \n",
    "\n",
    "plt.ylabel(\"Education\")\n",
    "plt.xlabel(\"Region\")\n",
    "plt.show()"
   ]
  },
  {
   "cell_type": "markdown",
   "id": "1fc4a1a7",
   "metadata": {},
   "source": [
    "- Island is the least prefered area by employees of all educational qualification"
   ]
  },
  {
   "cell_type": "markdown",
   "id": "theoretical-flexibility",
   "metadata": {
    "id": "theoretical-flexibility"
   },
   "source": [
    "#### Percentage of visa certifications across each region"
   ]
  },
  {
   "cell_type": "code",
   "execution_count": 34,
   "id": "hybrid-zealand",
   "metadata": {
    "id": "hybrid-zealand"
   },
   "outputs": [
    {
     "name": "stdout",
     "output_type": "stream",
     "text": [
      "case_status           Certified  Denied    All\n",
      "region_of_employment                          \n",
      "All                       17018    8462  25480\n",
      "Northeast                  4526    2669   7195\n",
      "West                       4100    2486   6586\n",
      "South                      4913    2104   7017\n",
      "Midwest                    3253    1054   4307\n",
      "Island                      226     149    375\n",
      "------------------------------------------------------------------------------------------------------------------------\n"
     ]
    },
    {
     "data": {
      "image/png": "[encoded data removed]",
      "text/plain": [
       "<Figure size 720x360 with 1 Axes>"
      ]
     },
     "metadata": {
      "needs_background": "light"
     },
     "output_type": "display_data"
    }
   ],
   "source": [
    "stacked_barplot(data, \"region_of_employment\", \"case_status\")"
   ]
  },
  {
   "cell_type": "markdown",
   "id": "394d91ff",
   "metadata": {},
   "source": [
    "- Most number of deniel is in case of islands\n",
    "- Midwest is the region where most of the emoloyees are getting certified"
   ]
  },
  {
   "cell_type": "markdown",
   "id": "attended-current",
   "metadata": {
    "id": "attended-current"
   },
   "source": [
    "#### Visa status vary across different continents."
   ]
  },
  {
   "cell_type": "code",
   "execution_count": 35,
   "id": "alive-bloom",
   "metadata": {
    "id": "alive-bloom"
   },
   "outputs": [
    {
     "name": "stdout",
     "output_type": "stream",
     "text": [
      "case_status    Certified  Denied    All\n",
      "continent                              \n",
      "All                17018    8462  25480\n",
      "Asia               11012    5849  16861\n",
      "North America       2037    1255   3292\n",
      "Europe              2957     775   3732\n",
      "South America        493     359    852\n",
      "Africa               397     154    551\n",
      "Oceania              122      70    192\n",
      "------------------------------------------------------------------------------------------------------------------------\n"
     ]
    },
    {
     "data": {
      "image/png": "[encoded data removed]",
      "text/plain": [
       "<Figure size 792x360 with 1 Axes>"
      ]
     },
     "metadata": {
      "needs_background": "light"
     },
     "output_type": "display_data"
    }
   ],
   "source": [
    "stacked_barplot(data, \"continent\", \"case_status\")"
   ]
  },
  {
   "cell_type": "markdown",
   "id": "3d19aa0e",
   "metadata": {},
   "source": [
    "- Europeans are getting more certified and South Americans are getiing denied the most"
   ]
  },
  {
   "cell_type": "markdown",
   "id": "macro-decrease",
   "metadata": {
    "id": "macro-decrease"
   },
   "source": [
    "#### Work experience influence over visa certification "
   ]
  },
  {
   "cell_type": "code",
   "execution_count": 36,
   "id": "divine-dimension",
   "metadata": {
    "id": "divine-dimension"
   },
   "outputs": [
    {
     "name": "stdout",
     "output_type": "stream",
     "text": [
      "case_status         Certified  Denied    All\n",
      "has_job_experience                          \n",
      "All                     17018    8462  25480\n",
      "N                        5994    4684  10678\n",
      "Y                       11024    3778  14802\n",
      "------------------------------------------------------------------------------------------------------------------------\n"
     ]
    },
    {
     "data": {
      "image/png": "[encoded data removed]",
      "text/plain": [
       "<Figure size 504x360 with 1 Axes>"
      ]
     },
     "metadata": {
      "needs_background": "light"
     },
     "output_type": "display_data"
    }
   ],
   "source": [
    "stacked_barplot(data, \"has_job_experience\", \"case_status\")"
   ]
  },
  {
   "cell_type": "markdown",
   "id": "14227451",
   "metadata": {},
   "source": [
    "- Experienced people have a better chance of getting approved"
   ]
  },
  {
   "cell_type": "markdown",
   "id": "binding-charger",
   "metadata": {
    "id": "binding-charger"
   },
   "source": [
    "#### Job training"
   ]
  },
  {
   "cell_type": "code",
   "execution_count": 37,
   "id": "temporal-dairy",
   "metadata": {
    "id": "temporal-dairy"
   },
   "outputs": [
    {
     "name": "stdout",
     "output_type": "stream",
     "text": [
      "requires_job_training      N     Y    All\n",
      "has_job_experience                       \n",
      "All                    22525  2955  25480\n",
      "N                       8988  1690  10678\n",
      "Y                      13537  1265  14802\n",
      "------------------------------------------------------------------------------------------------------------------------\n"
     ]
    },
    {
     "data": {
      "image/png": "[encoded data removed]",
      "text/plain": [
       "<Figure size 504x360 with 1 Axes>"
      ]
     },
     "metadata": {
      "needs_background": "light"
     },
     "output_type": "display_data"
    }
   ],
   "source": [
    "stacked_barplot(data, \"has_job_experience\", \"requires_job_training\")"
   ]
  },
  {
   "cell_type": "markdown",
   "id": "879b27fe",
   "metadata": {},
   "source": [
    "- It is clear from the plot that employee with job experience require less training. However, even the employee without experiece doesnt need much training."
   ]
  },
  {
   "cell_type": "markdown",
   "id": "lesser-bacteria",
   "metadata": {
    "id": "lesser-bacteria"
   },
   "source": [
    "####  Visa status vs prevailing wage"
   ]
  },
  {
   "cell_type": "code",
   "execution_count": 38,
   "id": "perfect-haiti",
   "metadata": {
    "id": "perfect-haiti"
   },
   "outputs": [
    {
     "data": {
      "image/png": "[encoded data removed]",
      "text/plain": [
       "<Figure size 864x720 with 4 Axes>"
      ]
     },
     "metadata": {
      "needs_background": "light"
     },
     "output_type": "display_data"
    }
   ],
   "source": [
    "distribution_plot_wrt_target(data, \"prevailing_wage\", \"case_status\")"
   ]
  },
  {
   "cell_type": "markdown",
   "id": "c57d2e8a",
   "metadata": {},
   "source": [
    "- Prevailing wage for certified employees is slighly more than the denied employees"
   ]
  },
  {
   "cell_type": "markdown",
   "id": "changing-kansas",
   "metadata": {
    "id": "changing-kansas"
   },
   "source": [
    "#### Checking if the prevailing wage is similar across all the regions of the US"
   ]
  },
  {
   "cell_type": "code",
   "execution_count": 39,
   "id": "dangerous-pride",
   "metadata": {
    "id": "dangerous-pride"
   },
   "outputs": [
    {
     "data": {
      "text/plain": [
       "<AxesSubplot:xlabel='region_of_employment', ylabel='prevailing_wage'>"
      ]
     },
     "execution_count": 39,
     "metadata": {},
     "output_type": "execute_result"
    },
    {
     "data": {
      "image/png": "[encoded data removed]",
      "text/plain": [
       "<Figure size 720x360 with 1 Axes>"
      ]
     },
     "metadata": {
      "needs_background": "light"
     },
     "output_type": "display_data"
    }
   ],
   "source": [
    "plt.figure(figsize=(10, 5))\n",
    "sns.boxplot(data=data, x='region_of_employment', y='prevailing_wage')"
   ]
  },
  {
   "cell_type": "markdown",
   "id": "0afd250b",
   "metadata": {},
   "source": [
    "- THe median previlege wage is slightly high in Midwest and Island"
   ]
  },
  {
   "cell_type": "markdown",
   "id": "suspected-asthma",
   "metadata": {
    "id": "suspected-asthma"
   },
   "source": [
    "#### Prevailing wage  impact on visa applications getting certified."
   ]
  },
  {
   "cell_type": "code",
   "execution_count": 40,
   "id": "impossible-aquatic",
   "metadata": {
    "id": "impossible-aquatic"
   },
   "outputs": [
    {
     "name": "stdout",
     "output_type": "stream",
     "text": [
      "case_status   Certified  Denied    All\n",
      "unit_of_wage                          \n",
      "All               17018    8462  25480\n",
      "Year              16047    6915  22962\n",
      "Hour                747    1410   2157\n",
      "Week                169     103    272\n",
      "Month                55      34     89\n",
      "------------------------------------------------------------------------------------------------------------------------\n"
     ]
    },
    {
     "data": {
      "image/png": "[encoded data removed]",
      "text/plain": [
       "<Figure size 648x360 with 1 Axes>"
      ]
     },
     "metadata": {
      "needs_background": "light"
     },
     "output_type": "display_data"
    }
   ],
   "source": [
    "stacked_barplot(data, \"unit_of_wage\", \"case_status\")"
   ]
  },
  {
   "cell_type": "markdown",
   "id": "81bc9737",
   "metadata": {},
   "source": [
    "- Most number of cases are rejected when unit of wage is in hours and most accepted when it is year wise"
   ]
  },
  {
   "cell_type": "markdown",
   "id": "icaAgO2siAcs",
   "metadata": {
    "id": "icaAgO2siAcs"
   },
   "source": [
    "## Data Preprocessing"
   ]
  },
  {
   "cell_type": "markdown",
   "id": "allied-association",
   "metadata": {
    "id": "allied-association"
   },
   "source": [
    "### Outlier Check\n",
    "\n",
    "- Let's check for outliers in the data."
   ]
  },
  {
   "cell_type": "code",
   "execution_count": 41,
   "id": "certified-complaint",
   "metadata": {
    "id": "certified-complaint"
   },
   "outputs": [
    {
     "data": {
      "image/png": "[encoded data removed]",
      "text/plain": [
       "<Figure size 1080x864 with 3 Axes>"
      ]
     },
     "metadata": {
      "needs_background": "light"
     },
     "output_type": "display_data"
    }
   ],
   "source": [
    "# outlier detection using boxplot\n",
    "numeric_columns = data.select_dtypes(include=np.number).columns.tolist()\n",
    "\n",
    "\n",
    "plt.figure(figsize=(15, 12))\n",
    "\n",
    "for i, variable in enumerate(numeric_columns):\n",
    "    plt.subplot(4, 4, i + 1)\n",
    "    plt.boxplot(data[variable], whis=1.5)\n",
    "    plt.tight_layout()\n",
    "    plt.title(variable)\n",
    "plt.show()"
   ]
  },
  {
   "cell_type": "markdown",
   "id": "0d1ff441",
   "metadata": {},
   "source": [
    "- There are outliers in the data\n",
    "- However, we will not treat the data"
   ]
  },
  {
   "cell_type": "markdown",
   "id": "flexible-independence",
   "metadata": {
    "id": "flexible-independence"
   },
   "source": [
    "### Data Preparation for modeling\n",
    "\n",
    "- We want to predict which visa will be certified.\n",
    "- Before we proceed to build a model, we'll have to encode categorical features.\n",
    "- We'll split the data into train and test to be able to evaluate the model that we build on the train data."
   ]
  },
  {
   "cell_type": "code",
   "execution_count": 42,
   "id": "genuine-evening",
   "metadata": {
    "id": "genuine-evening"
   },
   "outputs": [],
   "source": [
    "data[\"case_status\"] = data[\"case_status\"].apply(lambda x: 1 if x == \"Certified\" else 0)\n",
    "\n",
    "X = data.drop([\"case_status\"], axis=1)\n",
    "Y = data[\"case_status\"]\n",
    "\n",
    "\n",
    "X = pd.get_dummies(X, drop_first=True)\n",
    "\n",
    "# Splitting data in train and test sets\n",
    "X_train, X_test, y_train, y_test = train_test_split(X, Y, test_size=0.30, random_state=1, stratify=Y)"
   ]
  },
  {
   "cell_type": "code",
   "execution_count": 43,
   "id": "empty-typing",
   "metadata": {
    "id": "empty-typing"
   },
   "outputs": [
    {
     "name": "stdout",
     "output_type": "stream",
     "text": [
      "Shape of Training set :  (17836, 21)\n",
      "Shape of test set :  (7644, 21)\n",
      "Percentage of classes in training set:\n",
      "1    0.667919\n",
      "0    0.332081\n",
      "Name: case_status, dtype: float64\n",
      "Percentage of classes in test set:\n",
      "1    0.667844\n",
      "0    0.332156\n",
      "Name: case_status, dtype: float64\n"
     ]
    }
   ],
   "source": [
    "print(\"Shape of Training set : \", X_train.shape)\n",
    "print(\"Shape of test set : \", X_test.shape)\n",
    "print(\"Percentage of classes in training set:\")\n",
    "print(y_train.value_counts(normalize=True))\n",
    "print(\"Percentage of classes in test set:\")\n",
    "print(y_test.value_counts(normalize=True))"
   ]
  },
  {
   "cell_type": "markdown",
   "id": "teKIRZIDdzpK",
   "metadata": {
    "id": "teKIRZIDdzpK"
   },
   "source": [
    "## Model evaluation criterion"
   ]
  },
  {
   "cell_type": "code",
   "execution_count": 44,
   "id": "mexican-database",
   "metadata": {
    "id": "mexican-database"
   },
   "outputs": [],
   "source": [
    "# defining a function to compute different metrics to check performance of a classification model built using sklearn\n",
    "\n",
    "\n",
    "def model_performance_classification_sklearn(model, predictors, target):\n",
    "    \"\"\"\n",
    "    Function to compute different metrics to check classification model performance\n",
    "\n",
    "    model: classifier\n",
    "    predictors: independent variables\n",
    "    target: dependent variable\n",
    "    \"\"\"\n",
    "\n",
    "    # predicting using the independent variables\n",
    "    pred = model.predict(predictors)\n",
    "\n",
    "    acc = accuracy_score(target, pred)  # to compute Accuracy\n",
    "    recall = recall_score(target, pred)  # to compute Recall\n",
    "    precision = precision_score(target, pred)  # to compute Precision\n",
    "    f1 = f1_score(target, pred)  # to compute F1-score\n",
    "\n",
    "    # creating a dataframe of metrics\n",
    "    df_perf = pd.DataFrame(\n",
    "        {\"Accuracy\": acc, \"Recall\": recall, \"Precision\": precision, \"F1\": f1,},\n",
    "        index=[0],\n",
    "    )\n",
    "\n",
    "    return df_perf"
   ]
  },
  {
   "cell_type": "code",
   "execution_count": 47,
   "id": "recreational-topic",
   "metadata": {
    "id": "recreational-topic"
   },
   "outputs": [],
   "source": [
    "def confusion_matrix_sklearn(model, predictors, target):\n",
    "    \"\"\"\n",
    "    To plot the confusion_matrix with percentages\n",
    "\n",
    "    model: classifier\n",
    "    predictors: independent variables\n",
    "    target: dependent variable\n",
    "    \"\"\"\n",
    "    y_pred = model.predict(predictors)\n",
    "    cm = confusion_matrix(target, y_pred)\n",
    "    labels = np.asarray(\n",
    "        [\n",
    "            [\"{0:0.0f}\".format(item) + \"\\n{0:.2%}\".format(item / cm.flatten().sum())]\n",
    "            for item in cm.flatten()\n",
    "        ]\n",
    "    ).reshape(2, 2)\n",
    "\n",
    "    plt.figure(figsize=(6, 4))\n",
    "    sns.heatmap(cm, annot=labels, fmt=\"\")\n",
    "    plt.ylabel(\"True label\")\n",
    "    plt.xlabel(\"Predicted label\")"
   ]
  },
  {
   "cell_type": "markdown",
   "id": "ICezcLI4iL0a",
   "metadata": {
    "id": "ICezcLI4iL0a"
   },
   "source": [
    "## Decision Tree - Model Building and Hyperparameter Tuning"
   ]
  },
  {
   "cell_type": "markdown",
   "id": "blank-ballet",
   "metadata": {
    "id": "blank-ballet"
   },
   "source": [
    "### Decision Tree Model"
   ]
  },
  {
   "cell_type": "code",
   "execution_count": 45,
   "id": "hourly-hormone",
   "metadata": {
    "id": "hourly-hormone"
   },
   "outputs": [
    {
     "data": {
      "text/plain": [
       "DecisionTreeClassifier(random_state=1)"
      ]
     },
     "execution_count": 45,
     "metadata": {},
     "output_type": "execute_result"
    }
   ],
   "source": [
    "model = DecisionTreeClassifier(random_state=1) \n",
    "model.fit(X_train, y_train) "
   ]
  },
  {
   "cell_type": "markdown",
   "id": "increasing-diversity",
   "metadata": {
    "id": "increasing-diversity"
   },
   "source": [
    "#### Checking model performance on training set"
   ]
  },
  {
   "cell_type": "code",
   "execution_count": 48,
   "id": "irish-noise",
   "metadata": {
    "id": "irish-noise"
   },
   "outputs": [
    {
     "data": {
      "image/png": "[encoded data removed]",
      "text/plain": [
       "<Figure size 432x288 with 2 Axes>"
      ]
     },
     "metadata": {
      "needs_background": "light"
     },
     "output_type": "display_data"
    }
   ],
   "source": [
    "confusion_matrix_sklearn(model , X_train, y_train)  "
   ]
  },
  {
   "cell_type": "markdown",
   "id": "5a1885fe",
   "metadata": {},
   "source": [
    "- Training data has no false negative and no false positive i.e it indicaties overfitting of the data"
   ]
  },
  {
   "cell_type": "code",
   "execution_count": 49,
   "id": "multiple-union",
   "metadata": {
    "id": "multiple-union"
   },
   "outputs": [
    {
     "data": {
      "text/html": [
       "<div>\n",
       "<style scoped>\n",
       "    .dataframe tbody tr th:only-of-type {\n",
       "        vertical-align: middle;\n",
       "    }\n",
       "\n",
       "    .dataframe tbody tr th {\n",
       "        vertical-align: top;\n",
       "    }\n",
       "\n",
       "    .dataframe thead th {\n",
       "        text-align: right;\n",
       "    }\n",
       "</style>\n",
       "<table border=\"1\" class=\"dataframe\">\n",
       "  <thead>\n",
       "    <tr style=\"text-align: right;\">\n",
       "      <th></th>\n",
       "      <th>Accuracy</th>\n",
       "      <th>Recall</th>\n",
       "      <th>Precision</th>\n",
       "      <th>F1</th>\n",
       "    </tr>\n",
       "  </thead>\n",
       "  <tbody>\n",
       "    <tr>\n",
       "      <th>0</th>\n",
       "      <td>1.0</td>\n",
       "      <td>1.0</td>\n",
       "      <td>1.0</td>\n",
       "      <td>1.0</td>\n",
       "    </tr>\n",
       "  </tbody>\n",
       "</table>\n",
       "</div>"
      ],
      "text/plain": [
       "   Accuracy  Recall  Precision   F1\n",
       "0       1.0     1.0        1.0  1.0"
      ]
     },
     "execution_count": 49,
     "metadata": {},
     "output_type": "execute_result"
    }
   ],
   "source": [
    "decision_tree_perf_train = model_performance_classification_sklearn(\n",
    "    model, X_train, y_train\n",
    ")\n",
    "decision_tree_perf_train"
   ]
  },
  {
   "cell_type": "markdown",
   "id": "material-reduction",
   "metadata": {
    "id": "material-reduction"
   },
   "source": [
    "#### Checking model performance on test set"
   ]
  },
  {
   "cell_type": "code",
   "execution_count": 50,
   "id": "touched-survey",
   "metadata": {
    "id": "touched-survey"
   },
   "outputs": [
    {
     "data": {
      "image/png": "[encoded data removed]",
      "text/plain": [
       "<Figure size 432x288 with 2 Axes>"
      ]
     },
     "metadata": {
      "needs_background": "light"
     },
     "output_type": "display_data"
    }
   ],
   "source": [
    "confusion_matrix_sklearn(model, X_test, y_test) "
   ]
  },
  {
   "cell_type": "code",
   "execution_count": 51,
   "id": "perceived-memorial",
   "metadata": {
    "id": "perceived-memorial"
   },
   "outputs": [
    {
     "data": {
      "text/html": [
       "<div>\n",
       "<style scoped>\n",
       "    .dataframe tbody tr th:only-of-type {\n",
       "        vertical-align: middle;\n",
       "    }\n",
       "\n",
       "    .dataframe tbody tr th {\n",
       "        vertical-align: top;\n",
       "    }\n",
       "\n",
       "    .dataframe thead th {\n",
       "        text-align: right;\n",
       "    }\n",
       "</style>\n",
       "<table border=\"1\" class=\"dataframe\">\n",
       "  <thead>\n",
       "    <tr style=\"text-align: right;\">\n",
       "      <th></th>\n",
       "      <th>Accuracy</th>\n",
       "      <th>Recall</th>\n",
       "      <th>Precision</th>\n",
       "      <th>F1</th>\n",
       "    </tr>\n",
       "  </thead>\n",
       "  <tbody>\n",
       "    <tr>\n",
       "      <th>0</th>\n",
       "      <td>0.664835</td>\n",
       "      <td>0.742801</td>\n",
       "      <td>0.752232</td>\n",
       "      <td>0.747487</td>\n",
       "    </tr>\n",
       "  </tbody>\n",
       "</table>\n",
       "</div>"
      ],
      "text/plain": [
       "   Accuracy    Recall  Precision        F1\n",
       "0  0.664835  0.742801   0.752232  0.747487"
      ]
     },
     "execution_count": 51,
     "metadata": {},
     "output_type": "execute_result"
    }
   ],
   "source": [
    "decision_tree_perf_test = model_performance_classification_sklearn( \n",
    "    model, X_test, y_test) \n",
    "decision_tree_perf_test"
   ]
  },
  {
   "cell_type": "markdown",
   "id": "protected-romantic",
   "metadata": {
    "id": "protected-romantic"
   },
   "source": [
    "### Hyperparameter Tuning - Decision Tree"
   ]
  },
  {
   "cell_type": "code",
   "execution_count": 52,
   "id": "tested-building",
   "metadata": {
    "id": "tested-building"
   },
   "outputs": [
    {
     "data": {
      "text/plain": [
       "DecisionTreeClassifier(class_weight='balanced', max_depth=5, max_leaf_nodes=2,\n",
       "                       min_impurity_decrease=0.0001, min_samples_leaf=3,\n",
       "                       random_state=1)"
      ]
     },
     "execution_count": 52,
     "metadata": {},
     "output_type": "execute_result"
    }
   ],
   "source": [
    "# Choose the type of classifier.\n",
    "dtree_estimator = DecisionTreeClassifier(class_weight=\"balanced\", random_state=1)\n",
    "\n",
    "# Grid of parameters to choose from\n",
    "parameters = {\n",
    "    \"max_depth\": np.arange(5, 16, 5),\n",
    "    \"min_samples_leaf\": [3, 5, 7],\n",
    "    \"max_leaf_nodes\": [2, 5],\n",
    "    \"min_impurity_decrease\": [0.0001, 0.001],\n",
    "}\n",
    "\n",
    "# Type of scoring used to compare parameter combinations\n",
    "scorer = metrics.make_scorer(metrics.f1_score)\n",
    "\n",
    "# Run the grid search\n",
    "grid_obj = GridSearchCV(dtree_estimator, parameters, scoring=scorer, cv=5, n_jobs = -1)\n",
    "grid_obj = grid_obj.fit(X_train, y_train)\n",
    "\n",
    "# Set the clf to the best combination of parameters\n",
    "dtree_estimator = grid_obj.best_estimator_\n",
    "\n",
    "# Fit the best algorithm to the data.\n",
    "dtree_estimator.fit(X_train, y_train)"
   ]
  },
  {
   "cell_type": "code",
   "execution_count": 53,
   "id": "affected-thailand",
   "metadata": {
    "id": "affected-thailand"
   },
   "outputs": [
    {
     "data": {
      "image/png": "[encoded data removed]",
      "text/plain": [
       "<Figure size 432x288 with 2 Axes>"
      ]
     },
     "metadata": {
      "needs_background": "light"
     },
     "output_type": "display_data"
    }
   ],
   "source": [
    "confusion_matrix_sklearn(dtree_estimator, X_train, y_train) "
   ]
  },
  {
   "cell_type": "code",
   "execution_count": 54,
   "id": "enormous-hunger",
   "metadata": {
    "id": "enormous-hunger"
   },
   "outputs": [
    {
     "data": {
      "text/html": [
       "<div>\n",
       "<style scoped>\n",
       "    .dataframe tbody tr th:only-of-type {\n",
       "        vertical-align: middle;\n",
       "    }\n",
       "\n",
       "    .dataframe tbody tr th {\n",
       "        vertical-align: top;\n",
       "    }\n",
       "\n",
       "    .dataframe thead th {\n",
       "        text-align: right;\n",
       "    }\n",
       "</style>\n",
       "<table border=\"1\" class=\"dataframe\">\n",
       "  <thead>\n",
       "    <tr style=\"text-align: right;\">\n",
       "      <th></th>\n",
       "      <th>Accuracy</th>\n",
       "      <th>Recall</th>\n",
       "      <th>Precision</th>\n",
       "      <th>F1</th>\n",
       "    </tr>\n",
       "  </thead>\n",
       "  <tbody>\n",
       "    <tr>\n",
       "      <th>0</th>\n",
       "      <td>0.712548</td>\n",
       "      <td>0.931923</td>\n",
       "      <td>0.720067</td>\n",
       "      <td>0.812411</td>\n",
       "    </tr>\n",
       "  </tbody>\n",
       "</table>\n",
       "</div>"
      ],
      "text/plain": [
       "   Accuracy    Recall  Precision        F1\n",
       "0  0.712548  0.931923   0.720067  0.812411"
      ]
     },
     "execution_count": 54,
     "metadata": {},
     "output_type": "execute_result"
    }
   ],
   "source": [
    "dtree_estimator_model_train_perf = model_performance_classification_sklearn(dtree_estimator, X_train, y_train)\n",
    "dtree_estimator_model_train_perf"
   ]
  },
  {
   "cell_type": "code",
   "execution_count": 55,
   "id": "stone-maker",
   "metadata": {
    "id": "stone-maker"
   },
   "outputs": [
    {
     "data": {
      "image/png": "[encoded data removed]",
      "text/plain": [
       "<Figure size 432x288 with 2 Axes>"
      ]
     },
     "metadata": {
      "needs_background": "light"
     },
     "output_type": "display_data"
    }
   ],
   "source": [
    "confusion_matrix_sklearn(dtree_estimator, X_test, y_test)"
   ]
  },
  {
   "cell_type": "code",
   "execution_count": 56,
   "id": "together-pittsburgh",
   "metadata": {
    "id": "together-pittsburgh"
   },
   "outputs": [
    {
     "data": {
      "text/html": [
       "<div>\n",
       "<style scoped>\n",
       "    .dataframe tbody tr th:only-of-type {\n",
       "        vertical-align: middle;\n",
       "    }\n",
       "\n",
       "    .dataframe tbody tr th {\n",
       "        vertical-align: top;\n",
       "    }\n",
       "\n",
       "    .dataframe thead th {\n",
       "        text-align: right;\n",
       "    }\n",
       "</style>\n",
       "<table border=\"1\" class=\"dataframe\">\n",
       "  <thead>\n",
       "    <tr style=\"text-align: right;\">\n",
       "      <th></th>\n",
       "      <th>Accuracy</th>\n",
       "      <th>Recall</th>\n",
       "      <th>Precision</th>\n",
       "      <th>F1</th>\n",
       "    </tr>\n",
       "  </thead>\n",
       "  <tbody>\n",
       "    <tr>\n",
       "      <th>0</th>\n",
       "      <td>0.706567</td>\n",
       "      <td>0.930852</td>\n",
       "      <td>0.715447</td>\n",
       "      <td>0.809058</td>\n",
       "    </tr>\n",
       "  </tbody>\n",
       "</table>\n",
       "</div>"
      ],
      "text/plain": [
       "   Accuracy    Recall  Precision        F1\n",
       "0  0.706567  0.930852   0.715447  0.809058"
      ]
     },
     "execution_count": 56,
     "metadata": {},
     "output_type": "execute_result"
    }
   ],
   "source": [
    "dtree_estimator_model_test_perf = model_performance_classification_sklearn(dtree_estimator, X_test, y_test) \n",
    "dtree_estimator_model_test_perf"
   ]
  },
  {
   "cell_type": "markdown",
   "id": "FnQnoNOCiSwl",
   "metadata": {
    "id": "FnQnoNOCiSwl"
   },
   "source": [
    "## Bagging - Model Building and Hyperparameter Tuning"
   ]
  },
  {
   "cell_type": "markdown",
   "id": "aging-corruption",
   "metadata": {
    "id": "aging-corruption"
   },
   "source": [
    "### Bagging Classifier"
   ]
  },
  {
   "cell_type": "code",
   "execution_count": 57,
   "id": "postal-angle",
   "metadata": {
    "id": "postal-angle"
   },
   "outputs": [
    {
     "data": {
      "text/plain": [
       "BaggingClassifier(random_state=1)"
      ]
     },
     "execution_count": 57,
     "metadata": {},
     "output_type": "execute_result"
    }
   ],
   "source": [
    "bagging_classifier =BaggingClassifier(random_state=1) \n",
    "bagging_classifier.fit(X_train,y_train)"
   ]
  },
  {
   "cell_type": "markdown",
   "id": "suffering-growing",
   "metadata": {
    "id": "suffering-growing"
   },
   "source": [
    "#### Checking model performance on training set"
   ]
  },
  {
   "cell_type": "code",
   "execution_count": 58,
   "id": "extraordinary-festival",
   "metadata": {
    "id": "extraordinary-festival"
   },
   "outputs": [
    {
     "data": {
      "image/png": "[encoded data removed]",
      "text/plain": [
       "<Figure size 432x288 with 2 Axes>"
      ]
     },
     "metadata": {
      "needs_background": "light"
     },
     "output_type": "display_data"
    }
   ],
   "source": [
    "confusion_matrix_sklearn(bagging_classifier, X_train, y_train) "
   ]
  },
  {
   "cell_type": "code",
   "execution_count": 59,
   "id": "further-yemen",
   "metadata": {
    "id": "further-yemen"
   },
   "outputs": [
    {
     "data": {
      "text/html": [
       "<div>\n",
       "<style scoped>\n",
       "    .dataframe tbody tr th:only-of-type {\n",
       "        vertical-align: middle;\n",
       "    }\n",
       "\n",
       "    .dataframe tbody tr th {\n",
       "        vertical-align: top;\n",
       "    }\n",
       "\n",
       "    .dataframe thead th {\n",
       "        text-align: right;\n",
       "    }\n",
       "</style>\n",
       "<table border=\"1\" class=\"dataframe\">\n",
       "  <thead>\n",
       "    <tr style=\"text-align: right;\">\n",
       "      <th></th>\n",
       "      <th>Accuracy</th>\n",
       "      <th>Recall</th>\n",
       "      <th>Precision</th>\n",
       "      <th>F1</th>\n",
       "    </tr>\n",
       "  </thead>\n",
       "  <tbody>\n",
       "    <tr>\n",
       "      <th>0</th>\n",
       "      <td>0.985198</td>\n",
       "      <td>0.985982</td>\n",
       "      <td>0.99181</td>\n",
       "      <td>0.988887</td>\n",
       "    </tr>\n",
       "  </tbody>\n",
       "</table>\n",
       "</div>"
      ],
      "text/plain": [
       "   Accuracy    Recall  Precision        F1\n",
       "0  0.985198  0.985982    0.99181  0.988887"
      ]
     },
     "execution_count": 59,
     "metadata": {},
     "output_type": "execute_result"
    }
   ],
   "source": [
    "bagging_classifier_model_train_perf = model_performance_classification_sklearn(bagging_classifier, X_train, y_train) \n",
    "bagging_classifier_model_train_perf"
   ]
  },
  {
   "cell_type": "markdown",
   "id": "verified-obligation",
   "metadata": {
    "id": "verified-obligation"
   },
   "source": [
    "#### Checking model performance on test set"
   ]
  },
  {
   "cell_type": "code",
   "execution_count": 60,
   "id": "weird-wesley",
   "metadata": {
    "id": "weird-wesley"
   },
   "outputs": [
    {
     "data": {
      "image/png": "[encoded data removed]",
      "text/plain": [
       "<Figure size 432x288 with 2 Axes>"
      ]
     },
     "metadata": {
      "needs_background": "light"
     },
     "output_type": "display_data"
    }
   ],
   "source": [
    "confusion_matrix_sklearn(bagging_classifier, X_test, y_test) "
   ]
  },
  {
   "cell_type": "code",
   "execution_count": 61,
   "id": "handy-nature",
   "metadata": {
    "id": "handy-nature"
   },
   "outputs": [
    {
     "data": {
      "text/html": [
       "<div>\n",
       "<style scoped>\n",
       "    .dataframe tbody tr th:only-of-type {\n",
       "        vertical-align: middle;\n",
       "    }\n",
       "\n",
       "    .dataframe tbody tr th {\n",
       "        vertical-align: top;\n",
       "    }\n",
       "\n",
       "    .dataframe thead th {\n",
       "        text-align: right;\n",
       "    }\n",
       "</style>\n",
       "<table border=\"1\" class=\"dataframe\">\n",
       "  <thead>\n",
       "    <tr style=\"text-align: right;\">\n",
       "      <th></th>\n",
       "      <th>Accuracy</th>\n",
       "      <th>Recall</th>\n",
       "      <th>Precision</th>\n",
       "      <th>F1</th>\n",
       "    </tr>\n",
       "  </thead>\n",
       "  <tbody>\n",
       "    <tr>\n",
       "      <th>0</th>\n",
       "      <td>0.691523</td>\n",
       "      <td>0.764153</td>\n",
       "      <td>0.771711</td>\n",
       "      <td>0.767913</td>\n",
       "    </tr>\n",
       "  </tbody>\n",
       "</table>\n",
       "</div>"
      ],
      "text/plain": [
       "   Accuracy    Recall  Precision        F1\n",
       "0  0.691523  0.764153   0.771711  0.767913"
      ]
     },
     "execution_count": 61,
     "metadata": {},
     "output_type": "execute_result"
    }
   ],
   "source": [
    "bagging_classifier_model_test_perf = model_performance_classification_sklearn(bagging_classifier, X_test, y_test) \n",
    "bagging_classifier_model_test_perf"
   ]
  },
  {
   "cell_type": "markdown",
   "id": "increased-civilian",
   "metadata": {
    "id": "increased-civilian"
   },
   "source": [
    "### Hyperparameter Tuning - Bagging Classifier"
   ]
  },
  {
   "cell_type": "code",
   "execution_count": 62,
   "id": "coastal-jefferson",
   "metadata": {
    "id": "coastal-jefferson"
   },
   "outputs": [
    {
     "data": {
      "text/plain": [
       "BaggingClassifier(max_features=0.7, max_samples=0.7, n_estimators=100,\n",
       "                  random_state=1)"
      ]
     },
     "execution_count": 62,
     "metadata": {},
     "output_type": "execute_result"
    }
   ],
   "source": [
    "# Choose the type of classifier.\n",
    "bagging_estimator_tuned = BaggingClassifier(random_state=1)\n",
    "\n",
    "# Grid of parameters to choose from\n",
    "parameters = {\n",
    "    \"max_samples\": [0.7, 0.9],\n",
    "    \"max_features\": [0.7, 0.9],\n",
    "    \"n_estimators\": np.arange(90, 111, 10),\n",
    "}\n",
    "\n",
    "# Type of scoring used to compare parameter combinations\n",
    "acc_scorer = metrics.make_scorer(metrics.f1_score)\n",
    "\n",
    "grid_obj = GridSearchCV(bagging_estimator_tuned, parameters, scoring=acc_scorer, cv=5)\n",
    "grid_obj = grid_obj.fit(X_train, y_train)\n",
    "\n",
    "# Set the clf to the best combination of parameters\n",
    "bagging_estimator_tuned = grid_obj.best_estimator_\n",
    "\n",
    "# Fit the best algorithm to the data.\n",
    "bagging_estimator_tuned.fit(X_train, y_train)"
   ]
  },
  {
   "cell_type": "markdown",
   "id": "protecting-douglas",
   "metadata": {
    "id": "protecting-douglas"
   },
   "source": [
    "#### Checking model performance on training set"
   ]
  },
  {
   "cell_type": "code",
   "execution_count": 63,
   "id": "nominated-overhead",
   "metadata": {
    "id": "nominated-overhead"
   },
   "outputs": [
    {
     "data": {
      "image/png": "[encoded data removed]",
      "text/plain": [
       "<Figure size 432x288 with 2 Axes>"
      ]
     },
     "metadata": {
      "needs_background": "light"
     },
     "output_type": "display_data"
    }
   ],
   "source": [
    "confusion_matrix_sklearn(dtree_estimator, X_train,y_train)"
   ]
  },
  {
   "cell_type": "code",
   "execution_count": 64,
   "id": "fundamental-newport",
   "metadata": {
    "id": "fundamental-newport"
   },
   "outputs": [
    {
     "name": "stdout",
     "output_type": "stream",
     "text": [
      "Training performance \n",
      "    Accuracy    Recall  Precision        F1\n",
      "0  0.996187  0.999916   0.994407  0.997154\n"
     ]
    }
   ],
   "source": [
    "bagging_estimator_tuned_model_train_perf = model_performance_classification_sklearn(bagging_estimator_tuned, X_train,y_train)\n",
    "print(\"Training performance \\n\",bagging_estimator_tuned_model_train_perf)"
   ]
  },
  {
   "cell_type": "markdown",
   "id": "elegant-bookmark",
   "metadata": {
    "id": "elegant-bookmark"
   },
   "source": [
    "#### Checking model performance on test set"
   ]
  },
  {
   "cell_type": "code",
   "execution_count": 65,
   "id": "later-setup",
   "metadata": {
    "id": "later-setup"
   },
   "outputs": [
    {
     "data": {
      "image/png": "[encoded data removed]",
      "text/plain": [
       "<Figure size 432x288 with 2 Axes>"
      ]
     },
     "metadata": {
      "needs_background": "light"
     },
     "output_type": "display_data"
    }
   ],
   "source": [
    "confusion_matrix_sklearn(bagging_estimator_tuned, X_test,y_test)"
   ]
  },
  {
   "cell_type": "code",
   "execution_count": 66,
   "id": "discrete-immigration",
   "metadata": {
    "id": "discrete-immigration"
   },
   "outputs": [
    {
     "name": "stdout",
     "output_type": "stream",
     "text": [
      "Testing performance \n",
      "    Accuracy    Recall  Precision        F1\n",
      "0  0.724228  0.895397   0.743857  0.812622\n"
     ]
    }
   ],
   "source": [
    "bagging_estimator_tuned_model_test_perf = model_performance_classification_sklearn(bagging_estimator_tuned, X_test,y_test) \n",
    "print(\"Testing performance \\n\",bagging_estimator_tuned_model_test_perf)"
   ]
  },
  {
   "cell_type": "markdown",
   "id": "colonial-society",
   "metadata": {
    "id": "colonial-society"
   },
   "source": [
    "### Random Forest"
   ]
  },
  {
   "cell_type": "code",
   "execution_count": 67,
   "id": "outer-array",
   "metadata": {
    "id": "outer-array"
   },
   "outputs": [
    {
     "data": {
      "text/plain": [
       "RandomForestClassifier(class_weight='balanced', random_state=1)"
      ]
     },
     "execution_count": 67,
     "metadata": {},
     "output_type": "execute_result"
    }
   ],
   "source": [
    "# Fitting the model\n",
    "rf_estimator = RandomForestClassifier(class_weight='balanced',random_state=1)\n",
    "rf_estimator.fit(X_train, y_train)"
   ]
  },
  {
   "cell_type": "markdown",
   "id": "possible-vinyl",
   "metadata": {
    "id": "possible-vinyl"
   },
   "source": [
    "#### Checking model performance on training set"
   ]
  },
  {
   "cell_type": "code",
   "execution_count": 68,
   "id": "nervous-ordering",
   "metadata": {
    "id": "nervous-ordering"
   },
   "outputs": [
    {
     "data": {
      "image/png": "[encoded data removed]",
      "text/plain": [
       "<Figure size 432x288 with 2 Axes>"
      ]
     },
     "metadata": {
      "needs_background": "light"
     },
     "output_type": "display_data"
    }
   ],
   "source": [
    "confusion_matrix_sklearn(rf_estimator, X_train,y_train)"
   ]
  },
  {
   "cell_type": "code",
   "execution_count": 69,
   "id": "9374cb2f",
   "metadata": {},
   "outputs": [
    {
     "name": "stdout",
     "output_type": "stream",
     "text": [
      "Training performance \n",
      "    Accuracy    Recall  Precision        F1\n",
      "0  0.999944  0.999916        1.0  0.999958\n"
     ]
    }
   ],
   "source": [
    "rf_estimator_model_train_perf=model_performance_classification_sklearn(rf_estimator, X_train,y_train)\n",
    "print(\"Training performance \\n\",rf_estimator_model_train_perf)"
   ]
  },
  {
   "cell_type": "markdown",
   "id": "theoretical-poverty",
   "metadata": {
    "id": "theoretical-poverty"
   },
   "source": [
    "#### Checking model performance on test set"
   ]
  },
  {
   "cell_type": "code",
   "execution_count": 70,
   "id": "meaning-crash",
   "metadata": {
    "id": "meaning-crash"
   },
   "outputs": [
    {
     "data": {
      "image/png": "[encoded data removed]",
      "text/plain": [
       "<Figure size 432x288 with 2 Axes>"
      ]
     },
     "metadata": {
      "needs_background": "light"
     },
     "output_type": "display_data"
    }
   ],
   "source": [
    "confusion_matrix_sklearn(rf_estimator, X_test,y_test)"
   ]
  },
  {
   "cell_type": "code",
   "execution_count": 71,
   "id": "pending-light",
   "metadata": {
    "id": "pending-light"
   },
   "outputs": [
    {
     "name": "stdout",
     "output_type": "stream",
     "text": [
      "Testing performance \n",
      "    Accuracy    Recall  Precision        F1\n",
      "0  0.721088  0.840744   0.764926  0.801045\n"
     ]
    }
   ],
   "source": [
    "rf_estimator_model_test_perf=model_performance_classification_sklearn(rf_estimator, X_test, y_test)\n",
    "print(\"Testing performance \\n\",rf_estimator_model_test_perf)"
   ]
  },
  {
   "cell_type": "markdown",
   "id": "beneficial-bosnia",
   "metadata": {
    "id": "beneficial-bosnia"
   },
   "source": [
    "### Hyperparameter Tuning - Random Forest"
   ]
  },
  {
   "cell_type": "code",
   "execution_count": 72,
   "id": "interstate-jonathan",
   "metadata": {
    "id": "interstate-jonathan"
   },
   "outputs": [
    {
     "data": {
      "text/plain": [
       "RandomForestClassifier(max_depth=5, max_features='sqrt', min_samples_split=5,\n",
       "                       n_estimators=20, oob_score=True, random_state=1)"
      ]
     },
     "execution_count": 72,
     "metadata": {},
     "output_type": "execute_result"
    }
   ],
   "source": [
    "# Choose the type of classifier.\n",
    "rf_tuned = RandomForestClassifier(random_state=1, oob_score=True, bootstrap=True)\n",
    "\n",
    "parameters = {\n",
    "    \"max_depth\": list(np.arange(5, 15, 5)),\n",
    "    \"max_features\": [\"sqrt\", \"log2\"],\n",
    "    \"min_samples_split\": [5, 7],\n",
    "    \"n_estimators\": np.arange(15, 26, 5),\n",
    "}\n",
    "\n",
    "# Type of scoring used to compare parameter combinations\n",
    "acc_scorer = metrics.make_scorer(metrics.f1_score)\n",
    "\n",
    "# Run the grid search\n",
    "grid_obj =GridSearchCV(rf_tuned, parameters, scoring='recall',cv=5,n_jobs = -1) \n",
    "grid_obj = grid_obj.fit(X_train, y_train) \n",
    "\n",
    "# Set the clf to the best combination of parameters\n",
    "rf_tuned = grid_obj.best_estimator_\n",
    "\n",
    "# Fit the best algorithm to the data.\n",
    "rf_tuned.fit(X_train, y_train)"
   ]
  },
  {
   "cell_type": "markdown",
   "id": "joint-appendix",
   "metadata": {
    "id": "joint-appendix"
   },
   "source": [
    "#### Checking model performance on training set"
   ]
  },
  {
   "cell_type": "code",
   "execution_count": 73,
   "id": "broadband-issue",
   "metadata": {
    "id": "broadband-issue"
   },
   "outputs": [
    {
     "data": {
      "image/png": "[encoded data removed]",
      "text/plain": [
       "<Figure size 432x288 with 2 Axes>"
      ]
     },
     "metadata": {
      "needs_background": "light"
     },
     "output_type": "display_data"
    }
   ],
   "source": [
    "confusion_matrix_sklearn(rf_tuned, X_train,y_train)"
   ]
  },
  {
   "cell_type": "code",
   "execution_count": 74,
   "id": "minus-publication",
   "metadata": {
    "id": "minus-publication"
   },
   "outputs": [
    {
     "name": "stdout",
     "output_type": "stream",
     "text": [
      "Training performance \n",
      "    Accuracy    Recall  Precision        F1\n",
      "0  0.735591  0.925963   0.742079  0.823885\n"
     ]
    }
   ],
   "source": [
    "rf_tuned_model_train_perf = model_performance_classification_sklearn(rf_tuned, X_train,y_train)\n",
    "print(\"Training performance \\n\",rf_tuned_model_train_perf)"
   ]
  },
  {
   "cell_type": "markdown",
   "id": "joined-newman",
   "metadata": {
    "id": "joined-newman"
   },
   "source": [
    "#### Checking model performance on test set"
   ]
  },
  {
   "cell_type": "code",
   "execution_count": 75,
   "id": "higher-memphis",
   "metadata": {
    "id": "higher-memphis"
   },
   "outputs": [
    {
     "data": {
      "image/png": "[encoded data removed]",
      "text/plain": [
       "<Figure size 432x288 with 2 Axes>"
      ]
     },
     "metadata": {
      "needs_background": "light"
     },
     "output_type": "display_data"
    }
   ],
   "source": [
    "confusion_matrix_sklearn(rf_tuned, X_test,y_test) "
   ]
  },
  {
   "cell_type": "code",
   "execution_count": 76,
   "id": "processed-capital",
   "metadata": {
    "id": "processed-capital"
   },
   "outputs": [
    {
     "name": "stdout",
     "output_type": "stream",
     "text": [
      "Testing performance \n",
      "    Accuracy  Recall  Precision        F1\n",
      "0  0.723836  0.9238   0.732526  0.817119\n"
     ]
    }
   ],
   "source": [
    "rf_tuned_model_test_perf = model_performance_classification_sklearn(rf_tuned, X_test, y_test) \n",
    "print(\"Testing performance \\n\",rf_tuned_model_test_perf)"
   ]
  },
  {
   "cell_type": "markdown",
   "id": "p33jg7JVid1H",
   "metadata": {
    "id": "p33jg7JVid1H"
   },
   "source": [
    "## Boosting - Model Building and Hyperparameter Tuning"
   ]
  },
  {
   "cell_type": "markdown",
   "id": "divine-legend",
   "metadata": {
    "id": "divine-legend"
   },
   "source": [
    "### AdaBoost Classifier"
   ]
  },
  {
   "cell_type": "code",
   "execution_count": 77,
   "id": "written-chicken",
   "metadata": {
    "id": "written-chicken"
   },
   "outputs": [
    {
     "data": {
      "text/plain": [
       "AdaBoostClassifier(random_state=1)"
      ]
     },
     "execution_count": 77,
     "metadata": {},
     "output_type": "execute_result"
    }
   ],
   "source": [
    "ab_classifier = AdaBoostClassifier(random_state=1) \n",
    "ab_classifier.fit(X_train,y_train)"
   ]
  },
  {
   "cell_type": "markdown",
   "id": "grand-popularity",
   "metadata": {
    "id": "grand-popularity"
   },
   "source": [
    "#### Checking model performance on training set"
   ]
  },
  {
   "cell_type": "code",
   "execution_count": 78,
   "id": "fatty-primary",
   "metadata": {
    "id": "fatty-primary"
   },
   "outputs": [
    {
     "data": {
      "image/png": "[encoded data removed]",
      "text/plain": [
       "<Figure size 432x288 with 2 Axes>"
      ]
     },
     "metadata": {
      "needs_background": "light"
     },
     "output_type": "display_data"
    }
   ],
   "source": [
    "confusion_matrix_sklearn(ab_classifier,X_train,y_train)"
   ]
  },
  {
   "cell_type": "code",
   "execution_count": 79,
   "id": "forty-blame",
   "metadata": {
    "id": "forty-blame"
   },
   "outputs": [
    {
     "data": {
      "text/html": [
       "<div>\n",
       "<style scoped>\n",
       "    .dataframe tbody tr th:only-of-type {\n",
       "        vertical-align: middle;\n",
       "    }\n",
       "\n",
       "    .dataframe tbody tr th {\n",
       "        vertical-align: top;\n",
       "    }\n",
       "\n",
       "    .dataframe thead th {\n",
       "        text-align: right;\n",
       "    }\n",
       "</style>\n",
       "<table border=\"1\" class=\"dataframe\">\n",
       "  <thead>\n",
       "    <tr style=\"text-align: right;\">\n",
       "      <th></th>\n",
       "      <th>Accuracy</th>\n",
       "      <th>Recall</th>\n",
       "      <th>Precision</th>\n",
       "      <th>F1</th>\n",
       "    </tr>\n",
       "  </thead>\n",
       "  <tbody>\n",
       "    <tr>\n",
       "      <th>0</th>\n",
       "      <td>0.738226</td>\n",
       "      <td>0.887182</td>\n",
       "      <td>0.760688</td>\n",
       "      <td>0.81908</td>\n",
       "    </tr>\n",
       "  </tbody>\n",
       "</table>\n",
       "</div>"
      ],
      "text/plain": [
       "   Accuracy    Recall  Precision       F1\n",
       "0  0.738226  0.887182   0.760688  0.81908"
      ]
     },
     "execution_count": 79,
     "metadata": {},
     "output_type": "execute_result"
    }
   ],
   "source": [
    "ab_classifier_model_train_perf = model_performance_classification_sklearn(ab_classifier,X_train,y_train) \n",
    "ab_classifier_model_train_perf"
   ]
  },
  {
   "cell_type": "markdown",
   "id": "french-breed",
   "metadata": {
    "id": "french-breed"
   },
   "source": [
    "#### Checking model performance on test set"
   ]
  },
  {
   "cell_type": "code",
   "execution_count": 80,
   "id": "enormous-musical",
   "metadata": {
    "id": "enormous-musical"
   },
   "outputs": [
    {
     "data": {
      "image/png": "[encoded data removed]",
      "text/plain": [
       "<Figure size 432x288 with 2 Axes>"
      ]
     },
     "metadata": {
      "needs_background": "light"
     },
     "output_type": "display_data"
    }
   ],
   "source": [
    "confusion_matrix_sklearn(ab_classifier,X_test,y_test)"
   ]
  },
  {
   "cell_type": "code",
   "execution_count": 81,
   "id": "detailed-promise",
   "metadata": {
    "id": "detailed-promise"
   },
   "outputs": [
    {
     "data": {
      "text/html": [
       "<div>\n",
       "<style scoped>\n",
       "    .dataframe tbody tr th:only-of-type {\n",
       "        vertical-align: middle;\n",
       "    }\n",
       "\n",
       "    .dataframe tbody tr th {\n",
       "        vertical-align: top;\n",
       "    }\n",
       "\n",
       "    .dataframe thead th {\n",
       "        text-align: right;\n",
       "    }\n",
       "</style>\n",
       "<table border=\"1\" class=\"dataframe\">\n",
       "  <thead>\n",
       "    <tr style=\"text-align: right;\">\n",
       "      <th></th>\n",
       "      <th>Accuracy</th>\n",
       "      <th>Recall</th>\n",
       "      <th>Precision</th>\n",
       "      <th>F1</th>\n",
       "    </tr>\n",
       "  </thead>\n",
       "  <tbody>\n",
       "    <tr>\n",
       "      <th>0</th>\n",
       "      <td>0.734301</td>\n",
       "      <td>0.885015</td>\n",
       "      <td>0.757799</td>\n",
       "      <td>0.816481</td>\n",
       "    </tr>\n",
       "  </tbody>\n",
       "</table>\n",
       "</div>"
      ],
      "text/plain": [
       "   Accuracy    Recall  Precision        F1\n",
       "0  0.734301  0.885015   0.757799  0.816481"
      ]
     },
     "execution_count": 81,
     "metadata": {},
     "output_type": "execute_result"
    }
   ],
   "source": [
    "ab_classifier_model_test_perf = model_performance_classification_sklearn(ab_classifier,X_test,y_test)\n",
    "ab_classifier_model_test_perf"
   ]
  },
  {
   "cell_type": "markdown",
   "id": "increased-sharing",
   "metadata": {
    "id": "increased-sharing"
   },
   "source": [
    "### Hyperparameter Tuning - AdaBoost Classifier"
   ]
  },
  {
   "cell_type": "code",
   "execution_count": 82,
   "id": "overall-grounds",
   "metadata": {
    "id": "overall-grounds"
   },
   "outputs": [
    {
     "data": {
      "text/plain": [
       "AdaBoostClassifier(base_estimator=DecisionTreeClassifier(class_weight='balanced',\n",
       "                                                         max_depth=1,\n",
       "                                                         random_state=1),\n",
       "                   learning_rate=0.1, n_estimators=100, random_state=1)"
      ]
     },
     "execution_count": 82,
     "metadata": {},
     "output_type": "execute_result"
    }
   ],
   "source": [
    "# Choose the type of classifier.\n",
    "abc_tuned = AdaBoostClassifier(random_state=1)\n",
    "\n",
    "# Grid of parameters to choose from\n",
    "parameters = {\n",
    "    \n",
    "    \"base_estimator\": [\n",
    "        DecisionTreeClassifier(max_depth=1, class_weight=\"balanced\", random_state=1),\n",
    "        DecisionTreeClassifier(max_depth=2, class_weight=\"balanced\", random_state=1),\n",
    "    ],\n",
    "    \"n_estimators\": np.arange(80, 101, 10),\n",
    "    \"learning_rate\": np.arange(0.1, 0.4, 0.1),\n",
    "}\n",
    "\n",
    "# Type of scoring used to compare parameter  combinations\n",
    "acc_scorer = metrics.make_scorer(metrics.f1_score)\n",
    "\n",
    "# Run the grid search\n",
    "grid_obj = GridSearchCV(abc_tuned, parameters, scoring=acc_scorer,cv=5) \n",
    "grid_obj = grid_obj.fit(X_train, y_train)\n",
    "\n",
    "\n",
    "abc_tuned = grid_obj.best_estimator_\n",
    "\n",
    "\n",
    "abc_tuned.fit(X_train, y_train)"
   ]
  },
  {
   "cell_type": "markdown",
   "id": "adolescent-carroll",
   "metadata": {
    "id": "adolescent-carroll"
   },
   "source": [
    "#### Checking model performance on training set"
   ]
  },
  {
   "cell_type": "code",
   "execution_count": 83,
   "id": "excessive-drilling",
   "metadata": {
    "id": "excessive-drilling"
   },
   "outputs": [
    {
     "data": {
      "image/png": "[encoded data removed]",
      "text/plain": [
       "<Figure size 432x288 with 2 Axes>"
      ]
     },
     "metadata": {
      "needs_background": "light"
     },
     "output_type": "display_data"
    }
   ],
   "source": [
    "confusion_matrix_sklearn(abc_tuned,X_train,y_train)"
   ]
  },
  {
   "cell_type": "code",
   "execution_count": 84,
   "id": "broadband-dealer",
   "metadata": {
    "id": "broadband-dealer"
   },
   "outputs": [
    {
     "data": {
      "text/html": [
       "<div>\n",
       "<style scoped>\n",
       "    .dataframe tbody tr th:only-of-type {\n",
       "        vertical-align: middle;\n",
       "    }\n",
       "\n",
       "    .dataframe tbody tr th {\n",
       "        vertical-align: top;\n",
       "    }\n",
       "\n",
       "    .dataframe thead th {\n",
       "        text-align: right;\n",
       "    }\n",
       "</style>\n",
       "<table border=\"1\" class=\"dataframe\">\n",
       "  <thead>\n",
       "    <tr style=\"text-align: right;\">\n",
       "      <th></th>\n",
       "      <th>Accuracy</th>\n",
       "      <th>Recall</th>\n",
       "      <th>Precision</th>\n",
       "      <th>F1</th>\n",
       "    </tr>\n",
       "  </thead>\n",
       "  <tbody>\n",
       "    <tr>\n",
       "      <th>0</th>\n",
       "      <td>0.718995</td>\n",
       "      <td>0.781247</td>\n",
       "      <td>0.794587</td>\n",
       "      <td>0.787861</td>\n",
       "    </tr>\n",
       "  </tbody>\n",
       "</table>\n",
       "</div>"
      ],
      "text/plain": [
       "   Accuracy    Recall  Precision        F1\n",
       "0  0.718995  0.781247   0.794587  0.787861"
      ]
     },
     "execution_count": 84,
     "metadata": {},
     "output_type": "execute_result"
    }
   ],
   "source": [
    "abc_tuned_model_train_perf = model_performance_classification_sklearn(abc_tuned,X_train,y_train)\n",
    "abc_tuned_model_train_perf"
   ]
  },
  {
   "cell_type": "markdown",
   "id": "fitting-cameroon",
   "metadata": {
    "id": "fitting-cameroon"
   },
   "source": [
    "#### Checking model performance on test set"
   ]
  },
  {
   "cell_type": "code",
   "execution_count": 85,
   "id": "central-forest",
   "metadata": {
    "id": "central-forest"
   },
   "outputs": [
    {
     "data": {
      "image/png": "[encoded data removed]",
      "text/plain": [
       "<Figure size 432x288 with 2 Axes>"
      ]
     },
     "metadata": {
      "needs_background": "light"
     },
     "output_type": "display_data"
    }
   ],
   "source": [
    "confusion_matrix_sklearn(abc_tuned,X_test,y_test)"
   ]
  },
  {
   "cell_type": "code",
   "execution_count": 86,
   "id": "acting-edmonton",
   "metadata": {
    "id": "acting-edmonton"
   },
   "outputs": [
    {
     "data": {
      "text/html": [
       "<div>\n",
       "<style scoped>\n",
       "    .dataframe tbody tr th:only-of-type {\n",
       "        vertical-align: middle;\n",
       "    }\n",
       "\n",
       "    .dataframe tbody tr th {\n",
       "        vertical-align: top;\n",
       "    }\n",
       "\n",
       "    .dataframe thead th {\n",
       "        text-align: right;\n",
       "    }\n",
       "</style>\n",
       "<table border=\"1\" class=\"dataframe\">\n",
       "  <thead>\n",
       "    <tr style=\"text-align: right;\">\n",
       "      <th></th>\n",
       "      <th>Accuracy</th>\n",
       "      <th>Recall</th>\n",
       "      <th>Precision</th>\n",
       "      <th>F1</th>\n",
       "    </tr>\n",
       "  </thead>\n",
       "  <tbody>\n",
       "    <tr>\n",
       "      <th>0</th>\n",
       "      <td>0.71651</td>\n",
       "      <td>0.781391</td>\n",
       "      <td>0.791468</td>\n",
       "      <td>0.786397</td>\n",
       "    </tr>\n",
       "  </tbody>\n",
       "</table>\n",
       "</div>"
      ],
      "text/plain": [
       "   Accuracy    Recall  Precision        F1\n",
       "0   0.71651  0.781391   0.791468  0.786397"
      ]
     },
     "execution_count": 86,
     "metadata": {},
     "output_type": "execute_result"
    }
   ],
   "source": [
    "abc_tuned_model_test_perf = model_performance_classification_sklearn(abc_tuned,X_test,y_test) \n",
    "abc_tuned_model_test_perf"
   ]
  },
  {
   "cell_type": "markdown",
   "id": "married-terminal",
   "metadata": {
    "id": "married-terminal"
   },
   "source": [
    "### Gradient Boosting Classifier"
   ]
  },
  {
   "cell_type": "code",
   "execution_count": 87,
   "id": "indian-pierre",
   "metadata": {
    "id": "indian-pierre"
   },
   "outputs": [
    {
     "data": {
      "text/plain": [
       "GradientBoostingClassifier(init=AdaBoostClassifier(random_state=1),\n",
       "                           random_state=1)"
      ]
     },
     "execution_count": 87,
     "metadata": {},
     "output_type": "execute_result"
    }
   ],
   "source": [
    "gb_classifier = GradientBoostingClassifier(init=AdaBoostClassifier(random_state=1),random_state=1)\n",
    "gb_classifier.fit(X_train,y_train) "
   ]
  },
  {
   "cell_type": "markdown",
   "id": "fiscal-language",
   "metadata": {
    "id": "fiscal-language"
   },
   "source": [
    "#### Checking model performance on training set"
   ]
  },
  {
   "cell_type": "code",
   "execution_count": 88,
   "id": "soviet-orange",
   "metadata": {
    "id": "soviet-orange"
   },
   "outputs": [
    {
     "data": {
      "image/png": "[encoded data removed]",
      "text/plain": [
       "<Figure size 432x288 with 2 Axes>"
      ]
     },
     "metadata": {
      "needs_background": "light"
     },
     "output_type": "display_data"
    }
   ],
   "source": [
    "confusion_matrix_sklearn(gb_classifier,X_train,y_train)"
   ]
  },
  {
   "cell_type": "code",
   "execution_count": 89,
   "id": "respected-belief",
   "metadata": {
    "id": "respected-belief"
   },
   "outputs": [
    {
     "data": {
      "text/html": [
       "<div>\n",
       "<style scoped>\n",
       "    .dataframe tbody tr th:only-of-type {\n",
       "        vertical-align: middle;\n",
       "    }\n",
       "\n",
       "    .dataframe tbody tr th {\n",
       "        vertical-align: top;\n",
       "    }\n",
       "\n",
       "    .dataframe thead th {\n",
       "        text-align: right;\n",
       "    }\n",
       "</style>\n",
       "<table border=\"1\" class=\"dataframe\">\n",
       "  <thead>\n",
       "    <tr style=\"text-align: right;\">\n",
       "      <th></th>\n",
       "      <th>Accuracy</th>\n",
       "      <th>Recall</th>\n",
       "      <th>Precision</th>\n",
       "      <th>F1</th>\n",
       "    </tr>\n",
       "  </thead>\n",
       "  <tbody>\n",
       "    <tr>\n",
       "      <th>0</th>\n",
       "      <td>0.75869</td>\n",
       "      <td>0.881474</td>\n",
       "      <td>0.784066</td>\n",
       "      <td>0.829922</td>\n",
       "    </tr>\n",
       "  </tbody>\n",
       "</table>\n",
       "</div>"
      ],
      "text/plain": [
       "   Accuracy    Recall  Precision        F1\n",
       "0   0.75869  0.881474   0.784066  0.829922"
      ]
     },
     "execution_count": 89,
     "metadata": {},
     "output_type": "execute_result"
    }
   ],
   "source": [
    "gb_classifier_model_train_perf = model_performance_classification_sklearn(gb_classifier,X_train,y_train)\n",
    "gb_classifier_model_train_perf"
   ]
  },
  {
   "cell_type": "markdown",
   "id": "tribal-rainbow",
   "metadata": {
    "id": "tribal-rainbow"
   },
   "source": [
    "#### Checking model performance on test set"
   ]
  },
  {
   "cell_type": "code",
   "execution_count": 90,
   "id": "uniform-procedure",
   "metadata": {
    "id": "uniform-procedure"
   },
   "outputs": [
    {
     "data": {
      "image/png": "[encoded data removed]",
      "text/plain": [
       "<Figure size 432x288 with 2 Axes>"
      ]
     },
     "metadata": {
      "needs_background": "light"
     },
     "output_type": "display_data"
    }
   ],
   "source": [
    "confusion_matrix_sklearn(gb_classifier,X_test,y_test)"
   ]
  },
  {
   "cell_type": "code",
   "execution_count": 91,
   "id": "blind-apparel",
   "metadata": {
    "id": "blind-apparel"
   },
   "outputs": [
    {
     "data": {
      "text/html": [
       "<div>\n",
       "<style scoped>\n",
       "    .dataframe tbody tr th:only-of-type {\n",
       "        vertical-align: middle;\n",
       "    }\n",
       "\n",
       "    .dataframe tbody tr th {\n",
       "        vertical-align: top;\n",
       "    }\n",
       "\n",
       "    .dataframe thead th {\n",
       "        text-align: right;\n",
       "    }\n",
       "</style>\n",
       "<table border=\"1\" class=\"dataframe\">\n",
       "  <thead>\n",
       "    <tr style=\"text-align: right;\">\n",
       "      <th></th>\n",
       "      <th>Accuracy</th>\n",
       "      <th>Recall</th>\n",
       "      <th>Precision</th>\n",
       "      <th>F1</th>\n",
       "    </tr>\n",
       "  </thead>\n",
       "  <tbody>\n",
       "    <tr>\n",
       "      <th>0</th>\n",
       "      <td>0.745683</td>\n",
       "      <td>0.874241</td>\n",
       "      <td>0.774154</td>\n",
       "      <td>0.821159</td>\n",
       "    </tr>\n",
       "  </tbody>\n",
       "</table>\n",
       "</div>"
      ],
      "text/plain": [
       "   Accuracy    Recall  Precision        F1\n",
       "0  0.745683  0.874241   0.774154  0.821159"
      ]
     },
     "execution_count": 91,
     "metadata": {},
     "output_type": "execute_result"
    }
   ],
   "source": [
    "gb_classifier_model_test_perf = model_performance_classification_sklearn(gb_classifier,X_test,y_test)\n",
    "gb_classifier_model_test_perf"
   ]
  },
  {
   "cell_type": "markdown",
   "id": "fuzzy-enemy",
   "metadata": {
    "id": "fuzzy-enemy"
   },
   "source": [
    "### Hyperparameter Tuning - Gradient Boosting Classifier"
   ]
  },
  {
   "cell_type": "code",
   "execution_count": 92,
   "id": "based-bishop",
   "metadata": {
    "id": "based-bishop"
   },
   "outputs": [
    {
     "data": {
      "text/plain": [
       "GradientBoostingClassifier(init=AdaBoostClassifier(random_state=1),\n",
       "                           max_features=0.8, n_estimators=200, random_state=1,\n",
       "                           subsample=1)"
      ]
     },
     "execution_count": 92,
     "metadata": {},
     "output_type": "execute_result"
    }
   ],
   "source": [
    "# Choose the type of classifier.\n",
    "gbc_tuned = GradientBoostingClassifier(\n",
    "    init=AdaBoostClassifier(random_state=1), random_state=1\n",
    ")\n",
    "\n",
    "# Grid of parameters to choose from\n",
    "parameters = {\n",
    "    \"n_estimators\": [200, 250],\n",
    "    \"subsample\": [0.9, 1],\n",
    "    \"max_features\": [0.8, 0.9],\n",
    "    \"learning_rate\": np.arange(0.1, 0.21, 0.1),\n",
    "}\n",
    "\n",
    "# Type of scoring used to compare parameter combinations\n",
    "acc_scorer = metrics.make_scorer(metrics.f1_score)\n",
    "\n",
    "# Run the grid search\n",
    "grid_obj = GridSearchCV(gbc_tuned, parameters, scoring=acc_scorer,cv=5) \n",
    "grid_obj = grid_obj.fit(X_train, y_train)\n",
    "\n",
    "# Set the clf to the best combination of parameters\n",
    "gbc_tuned = grid_obj.best_estimator_\n",
    "\n",
    "# Fit the best algorithm to the data.\n",
    "gbc_tuned.fit(X_train, y_train)"
   ]
  },
  {
   "cell_type": "markdown",
   "id": "standard-islam",
   "metadata": {
    "id": "standard-islam"
   },
   "source": [
    "#### Checking model performance on training set"
   ]
  },
  {
   "cell_type": "code",
   "execution_count": 93,
   "id": "verbal-japanese",
   "metadata": {
    "id": "verbal-japanese"
   },
   "outputs": [
    {
     "data": {
      "image/png": "[encoded data removed]",
      "text/plain": [
       "<Figure size 432x288 with 2 Axes>"
      ]
     },
     "metadata": {
      "needs_background": "light"
     },
     "output_type": "display_data"
    }
   ],
   "source": [
    "confusion_matrix_sklearn(gbc_tuned,X_train,y_train) "
   ]
  },
  {
   "cell_type": "code",
   "execution_count": 94,
   "id": "passive-accent",
   "metadata": {
    "id": "passive-accent"
   },
   "outputs": [
    {
     "data": {
      "text/html": [
       "<div>\n",
       "<style scoped>\n",
       "    .dataframe tbody tr th:only-of-type {\n",
       "        vertical-align: middle;\n",
       "    }\n",
       "\n",
       "    .dataframe tbody tr th {\n",
       "        vertical-align: top;\n",
       "    }\n",
       "\n",
       "    .dataframe thead th {\n",
       "        text-align: right;\n",
       "    }\n",
       "</style>\n",
       "<table border=\"1\" class=\"dataframe\">\n",
       "  <thead>\n",
       "    <tr style=\"text-align: right;\">\n",
       "      <th></th>\n",
       "      <th>Accuracy</th>\n",
       "      <th>Recall</th>\n",
       "      <th>Precision</th>\n",
       "      <th>F1</th>\n",
       "    </tr>\n",
       "  </thead>\n",
       "  <tbody>\n",
       "    <tr>\n",
       "      <th>0</th>\n",
       "      <td>0.764017</td>\n",
       "      <td>0.882649</td>\n",
       "      <td>0.789059</td>\n",
       "      <td>0.833234</td>\n",
       "    </tr>\n",
       "  </tbody>\n",
       "</table>\n",
       "</div>"
      ],
      "text/plain": [
       "   Accuracy    Recall  Precision        F1\n",
       "0  0.764017  0.882649   0.789059  0.833234"
      ]
     },
     "execution_count": 94,
     "metadata": {},
     "output_type": "execute_result"
    }
   ],
   "source": [
    "gbc_tuned_model_train_perf = model_performance_classification_sklearn(gbc_tuned,X_train,y_train)\n",
    "gbc_tuned_model_train_perf"
   ]
  },
  {
   "cell_type": "markdown",
   "id": "subsequent-royalty",
   "metadata": {
    "id": "subsequent-royalty"
   },
   "source": [
    "#### Checking model performance on test set"
   ]
  },
  {
   "cell_type": "code",
   "execution_count": 95,
   "id": "other-pharmaceutical",
   "metadata": {
    "id": "other-pharmaceutical"
   },
   "outputs": [
    {
     "data": {
      "image/png": "[encoded data removed]",
      "text/plain": [
       "<Figure size 432x288 with 2 Axes>"
      ]
     },
     "metadata": {
      "needs_background": "light"
     },
     "output_type": "display_data"
    }
   ],
   "source": [
    "confusion_matrix_sklearn(gbc_tuned,X_test,y_test)"
   ]
  },
  {
   "cell_type": "code",
   "execution_count": 96,
   "id": "forward-perspective",
   "metadata": {
    "id": "forward-perspective"
   },
   "outputs": [
    {
     "data": {
      "text/html": [
       "<div>\n",
       "<style scoped>\n",
       "    .dataframe tbody tr th:only-of-type {\n",
       "        vertical-align: middle;\n",
       "    }\n",
       "\n",
       "    .dataframe tbody tr th {\n",
       "        vertical-align: top;\n",
       "    }\n",
       "\n",
       "    .dataframe thead th {\n",
       "        text-align: right;\n",
       "    }\n",
       "</style>\n",
       "<table border=\"1\" class=\"dataframe\">\n",
       "  <thead>\n",
       "    <tr style=\"text-align: right;\">\n",
       "      <th></th>\n",
       "      <th>Accuracy</th>\n",
       "      <th>Recall</th>\n",
       "      <th>Precision</th>\n",
       "      <th>F1</th>\n",
       "    </tr>\n",
       "  </thead>\n",
       "  <tbody>\n",
       "    <tr>\n",
       "      <th>0</th>\n",
       "      <td>0.743459</td>\n",
       "      <td>0.871303</td>\n",
       "      <td>0.773296</td>\n",
       "      <td>0.819379</td>\n",
       "    </tr>\n",
       "  </tbody>\n",
       "</table>\n",
       "</div>"
      ],
      "text/plain": [
       "   Accuracy    Recall  Precision        F1\n",
       "0  0.743459  0.871303   0.773296  0.819379"
      ]
     },
     "execution_count": 96,
     "metadata": {},
     "output_type": "execute_result"
    }
   ],
   "source": [
    "gbc_tuned_model_test_perf = model_performance_classification_sklearn(gbc_tuned,X_test,y_test)\n",
    "gbc_tuned_model_test_perf"
   ]
  },
  {
   "cell_type": "markdown",
   "id": "1415e2a1",
   "metadata": {
    "id": "1415e2a1"
   },
   "source": [
    "### Note - You can choose **not to build** XGBoost if you have any installation issues"
   ]
  },
  {
   "cell_type": "markdown",
   "id": "superior-letter",
   "metadata": {
    "id": "superior-letter"
   },
   "source": [
    "### XGBoost Classifier"
   ]
  },
  {
   "cell_type": "code",
   "execution_count": 97,
   "id": "laden-brighton",
   "metadata": {
    "id": "laden-brighton"
   },
   "outputs": [
    {
     "data": {
      "text/plain": [
       "XGBClassifier(base_score=0.5, booster='gbtree', callbacks=None,\n",
       "              colsample_bylevel=1, colsample_bynode=1, colsample_bytree=1,\n",
       "              early_stopping_rounds=None, enable_categorical=False,\n",
       "              eval_metric='logloss', gamma=0, gpu_id=-1,\n",
       "              grow_policy='depthwise', importance_type=None,\n",
       "              interaction_constraints='', learning_rate=0.300000012,\n",
       "              max_bin=256, max_cat_to_onehot=4, max_delta_step=0, max_depth=6,\n",
       "              max_leaves=0, min_child_weight=1, missing=nan,\n",
       "              monotone_constraints='()', n_estimators=100, n_jobs=0,\n",
       "              num_parallel_tree=1, predictor='auto', random_state=1,\n",
       "              reg_alpha=0, reg_lambda=1, ...)"
      ]
     },
     "execution_count": 97,
     "metadata": {},
     "output_type": "execute_result"
    }
   ],
   "source": [
    "xgb_classifier = XGBClassifier(random_state=1,eval_metric='logloss')\n",
    "xgb_classifier.fit(X_train, y_train) "
   ]
  },
  {
   "cell_type": "markdown",
   "id": "muslim-machine",
   "metadata": {
    "id": "muslim-machine"
   },
   "source": [
    "#### Checking model performance on training set"
   ]
  },
  {
   "cell_type": "code",
   "execution_count": 98,
   "id": "subsequent-dividend",
   "metadata": {
    "id": "subsequent-dividend"
   },
   "outputs": [
    {
     "data": {
      "image/png": "[encoded data removed]",
      "text/plain": [
       "<Figure size 432x288 with 2 Axes>"
      ]
     },
     "metadata": {
      "needs_background": "light"
     },
     "output_type": "display_data"
    }
   ],
   "source": [
    "confusion_matrix_sklearn(xgb_classifier,X_train,y_train)"
   ]
  },
  {
   "cell_type": "code",
   "execution_count": 99,
   "id": "creative-shock",
   "metadata": {
    "id": "creative-shock"
   },
   "outputs": [
    {
     "data": {
      "text/html": [
       "<div>\n",
       "<style scoped>\n",
       "    .dataframe tbody tr th:only-of-type {\n",
       "        vertical-align: middle;\n",
       "    }\n",
       "\n",
       "    .dataframe tbody tr th {\n",
       "        vertical-align: top;\n",
       "    }\n",
       "\n",
       "    .dataframe thead th {\n",
       "        text-align: right;\n",
       "    }\n",
       "</style>\n",
       "<table border=\"1\" class=\"dataframe\">\n",
       "  <thead>\n",
       "    <tr style=\"text-align: right;\">\n",
       "      <th></th>\n",
       "      <th>Accuracy</th>\n",
       "      <th>Recall</th>\n",
       "      <th>Precision</th>\n",
       "      <th>F1</th>\n",
       "    </tr>\n",
       "  </thead>\n",
       "  <tbody>\n",
       "    <tr>\n",
       "      <th>0</th>\n",
       "      <td>0.838753</td>\n",
       "      <td>0.931419</td>\n",
       "      <td>0.843482</td>\n",
       "      <td>0.885272</td>\n",
       "    </tr>\n",
       "  </tbody>\n",
       "</table>\n",
       "</div>"
      ],
      "text/plain": [
       "   Accuracy    Recall  Precision        F1\n",
       "0  0.838753  0.931419   0.843482  0.885272"
      ]
     },
     "execution_count": 99,
     "metadata": {},
     "output_type": "execute_result"
    }
   ],
   "source": [
    "xgb_classifier_model_train_perf = model_performance_classification_sklearn(xgb_classifier,X_train,y_train)\n",
    "xgb_classifier_model_train_perf"
   ]
  },
  {
   "cell_type": "markdown",
   "id": "advised-rabbit",
   "metadata": {
    "id": "advised-rabbit"
   },
   "source": [
    "#### Checking model performance on test set"
   ]
  },
  {
   "cell_type": "code",
   "execution_count": 100,
   "id": "intense-delhi",
   "metadata": {
    "id": "intense-delhi"
   },
   "outputs": [
    {
     "data": {
      "image/png": "[encoded data removed]",
      "text/plain": [
       "<Figure size 432x288 with 2 Axes>"
      ]
     },
     "metadata": {
      "needs_background": "light"
     },
     "output_type": "display_data"
    }
   ],
   "source": [
    "confusion_matrix_sklearn(xgb_classifier,X_test,y_test)"
   ]
  },
  {
   "cell_type": "code",
   "execution_count": 101,
   "id": "conventional-hierarchy",
   "metadata": {
    "id": "conventional-hierarchy"
   },
   "outputs": [
    {
     "data": {
      "text/html": [
       "<div>\n",
       "<style scoped>\n",
       "    .dataframe tbody tr th:only-of-type {\n",
       "        vertical-align: middle;\n",
       "    }\n",
       "\n",
       "    .dataframe tbody tr th {\n",
       "        vertical-align: top;\n",
       "    }\n",
       "\n",
       "    .dataframe thead th {\n",
       "        text-align: right;\n",
       "    }\n",
       "</style>\n",
       "<table border=\"1\" class=\"dataframe\">\n",
       "  <thead>\n",
       "    <tr style=\"text-align: right;\">\n",
       "      <th></th>\n",
       "      <th>Accuracy</th>\n",
       "      <th>Recall</th>\n",
       "      <th>Precision</th>\n",
       "      <th>F1</th>\n",
       "    </tr>\n",
       "  </thead>\n",
       "  <tbody>\n",
       "    <tr>\n",
       "      <th>0</th>\n",
       "      <td>0.733255</td>\n",
       "      <td>0.860725</td>\n",
       "      <td>0.767913</td>\n",
       "      <td>0.811675</td>\n",
       "    </tr>\n",
       "  </tbody>\n",
       "</table>\n",
       "</div>"
      ],
      "text/plain": [
       "   Accuracy    Recall  Precision        F1\n",
       "0  0.733255  0.860725   0.767913  0.811675"
      ]
     },
     "execution_count": 101,
     "metadata": {},
     "output_type": "execute_result"
    }
   ],
   "source": [
    "xgb_classifier_model_test_perf = model_performance_classification_sklearn(xgb_classifier,X_test,y_test)\n",
    "xgb_classifier_model_test_perf"
   ]
  },
  {
   "cell_type": "markdown",
   "id": "mobile-chosen",
   "metadata": {
    "id": "mobile-chosen"
   },
   "source": [
    "### Hyperparameter Tuning - XGBoost Classifier"
   ]
  },
  {
   "cell_type": "code",
   "execution_count": 102,
   "id": "aerial-trunk",
   "metadata": {
    "id": "aerial-trunk"
   },
   "outputs": [
    {
     "data": {
      "text/plain": [
       "XGBClassifier(base_score=0.5, booster='gbtree', callbacks=None,\n",
       "              colsample_bylevel=1, colsample_bynode=1, colsample_bytree=0.9,\n",
       "              early_stopping_rounds=None, enable_categorical=False,\n",
       "              eval_metric='logloss', gamma=5, gpu_id=-1,\n",
       "              grow_policy='depthwise', importance_type=None,\n",
       "              interaction_constraints='', learning_rate=0.1, max_bin=256,\n",
       "              max_cat_to_onehot=4, max_delta_step=0, max_depth=6, max_leaves=0,\n",
       "              min_child_weight=1, missing=nan, monotone_constraints='()',\n",
       "              n_estimators=200, n_jobs=0, num_parallel_tree=1, predictor='auto',\n",
       "              random_state=1, reg_alpha=0, reg_lambda=1, ...)"
      ]
     },
     "execution_count": 102,
     "metadata": {},
     "output_type": "execute_result"
    }
   ],
   "source": [
    "# Choose the type of classifier.\n",
    "xgb_tuned = XGBClassifier(random_state=1, eval_metric=\"logloss\")\n",
    "\n",
    "# Grid of parameters to choose from\n",
    "parameters = {\n",
    "    \"n_estimators\": np.arange(150, 250, 50),\n",
    "    \"scale_pos_weight\": [1, 2],\n",
    "    \"subsample\": [0.9, 1],\n",
    "    \"learning_rate\": np.arange(0.1, 0.21, 0.1),\n",
    "    \"gamma\": [3, 5],\n",
    "    \"colsample_bytree\": [0.8, 0.9],\n",
    "    \"colsample_bylevel\": [ 0.9, 1],\n",
    "}\n",
    "\n",
    "# Type of scoring used to compare parameter combinations\n",
    "acc_scorer = metrics.make_scorer(metrics.f1_score)\n",
    "\n",
    "# Run the grid search\n",
    "grid_obj = GridSearchCV(xgb_tuned, parameters,scoring=acc_scorer,cv=5) \n",
    "grid_obj = grid_obj.fit(X_train, y_train)\n",
    "\n",
    "# Set the clf to the best combination of parameters\n",
    "xgb_tuned = grid_obj.best_estimator_\n",
    "\n",
    "# Fit the best algorithm to the data.\n",
    "xgb_tuned.fit(X_train, y_train)"
   ]
  },
  {
   "cell_type": "markdown",
   "id": "psychological-plenty",
   "metadata": {
    "id": "psychological-plenty"
   },
   "source": [
    "#### Checking model performance on training set"
   ]
  },
  {
   "cell_type": "code",
   "execution_count": 103,
   "id": "static-yesterday",
   "metadata": {
    "id": "static-yesterday"
   },
   "outputs": [
    {
     "data": {
      "image/png": "[encoded data removed]",
      "text/plain": [
       "<Figure size 432x288 with 2 Axes>"
      ]
     },
     "metadata": {
      "needs_background": "light"
     },
     "output_type": "display_data"
    }
   ],
   "source": [
    "confusion_matrix_sklearn(xgb_tuned,X_train,y_train) "
   ]
  },
  {
   "cell_type": "code",
   "execution_count": 104,
   "id": "premium-today",
   "metadata": {
    "id": "premium-today"
   },
   "outputs": [
    {
     "data": {
      "text/html": [
       "<div>\n",
       "<style scoped>\n",
       "    .dataframe tbody tr th:only-of-type {\n",
       "        vertical-align: middle;\n",
       "    }\n",
       "\n",
       "    .dataframe tbody tr th {\n",
       "        vertical-align: top;\n",
       "    }\n",
       "\n",
       "    .dataframe thead th {\n",
       "        text-align: right;\n",
       "    }\n",
       "</style>\n",
       "<table border=\"1\" class=\"dataframe\">\n",
       "  <thead>\n",
       "    <tr style=\"text-align: right;\">\n",
       "      <th></th>\n",
       "      <th>Accuracy</th>\n",
       "      <th>Recall</th>\n",
       "      <th>Precision</th>\n",
       "      <th>F1</th>\n",
       "    </tr>\n",
       "  </thead>\n",
       "  <tbody>\n",
       "    <tr>\n",
       "      <th>0</th>\n",
       "      <td>0.765474</td>\n",
       "      <td>0.881642</td>\n",
       "      <td>0.791127</td>\n",
       "      <td>0.833935</td>\n",
       "    </tr>\n",
       "  </tbody>\n",
       "</table>\n",
       "</div>"
      ],
      "text/plain": [
       "   Accuracy    Recall  Precision        F1\n",
       "0  0.765474  0.881642   0.791127  0.833935"
      ]
     },
     "execution_count": 104,
     "metadata": {},
     "output_type": "execute_result"
    }
   ],
   "source": [
    "xgb_tuned_model_train_perf = model_performance_classification_sklearn(xgb_tuned,X_train,y_train)\n",
    "xgb_tuned_model_train_perf"
   ]
  },
  {
   "cell_type": "markdown",
   "id": "awful-judgment",
   "metadata": {
    "id": "awful-judgment"
   },
   "source": [
    "#### Checking model performance on test set"
   ]
  },
  {
   "cell_type": "code",
   "execution_count": 105,
   "id": "thrown-toilet",
   "metadata": {
    "id": "thrown-toilet"
   },
   "outputs": [
    {
     "data": {
      "image/png": "[encoded data removed]",
      "text/plain": [
       "<Figure size 432x288 with 2 Axes>"
      ]
     },
     "metadata": {
      "needs_background": "light"
     },
     "output_type": "display_data"
    }
   ],
   "source": [
    "confusion_matrix_sklearn(xgb_tuned,X_test,y_test)"
   ]
  },
  {
   "cell_type": "code",
   "execution_count": 112,
   "id": "ad4b39dd",
   "metadata": {},
   "outputs": [
    {
     "data": {
      "text/html": [
       "<div>\n",
       "<style scoped>\n",
       "    .dataframe tbody tr th:only-of-type {\n",
       "        vertical-align: middle;\n",
       "    }\n",
       "\n",
       "    .dataframe tbody tr th {\n",
       "        vertical-align: top;\n",
       "    }\n",
       "\n",
       "    .dataframe thead th {\n",
       "        text-align: right;\n",
       "    }\n",
       "</style>\n",
       "<table border=\"1\" class=\"dataframe\">\n",
       "  <thead>\n",
       "    <tr style=\"text-align: right;\">\n",
       "      <th></th>\n",
       "      <th>Accuracy</th>\n",
       "      <th>Recall</th>\n",
       "      <th>Precision</th>\n",
       "      <th>F1</th>\n",
       "    </tr>\n",
       "  </thead>\n",
       "  <tbody>\n",
       "    <tr>\n",
       "      <th>0</th>\n",
       "      <td>0.74516</td>\n",
       "      <td>0.86954</td>\n",
       "      <td>0.775913</td>\n",
       "      <td>0.820063</td>\n",
       "    </tr>\n",
       "  </tbody>\n",
       "</table>\n",
       "</div>"
      ],
      "text/plain": [
       "   Accuracy   Recall  Precision        F1\n",
       "0   0.74516  0.86954   0.775913  0.820063"
      ]
     },
     "execution_count": 112,
     "metadata": {},
     "output_type": "execute_result"
    }
   ],
   "source": [
    "xgb_tuned_model_test_perf = model_performance_classification_sklearn(xgb_tuned,X_test,y_test) \n",
    "xgb_tuned_model_test_perf"
   ]
  },
  {
   "cell_type": "markdown",
   "id": "disciplinary-manhattan",
   "metadata": {
    "id": "disciplinary-manhattan"
   },
   "source": [
    "## Stacking Classifier"
   ]
  },
  {
   "cell_type": "code",
   "execution_count": 114,
   "id": "massive-cincinnati",
   "metadata": {
    "id": "massive-cincinnati"
   },
   "outputs": [
    {
     "data": {
      "text/plain": [
       "StackingClassifier(cv=5,\n",
       "                   estimators=[('AdaBoost', AdaBoostClassifier(random_state=1)),\n",
       "                               ('Gradient Boosting',\n",
       "                                GradientBoostingClassifier(init=AdaBoostClassifier(random_state=1),\n",
       "                                                           max_features=0.8,\n",
       "                                                           n_estimators=200,\n",
       "                                                           random_state=1,\n",
       "                                                           subsample=1)),\n",
       "                               ('Random Forest',\n",
       "                                RandomForestClassifier(max_depth=5,\n",
       "                                                       max_features='sqrt',\n",
       "                                                       min_samples_split=5,\n",
       "                                                       n_estimators=20,\n",
       "                                                       oob_score...\n",
       "                                                 eval_metric='logloss', gamma=5,\n",
       "                                                 gpu_id=-1,\n",
       "                                                 grow_policy='depthwise',\n",
       "                                                 importance_type=None,\n",
       "                                                 interaction_constraints='',\n",
       "                                                 learning_rate=0.1, max_bin=256,\n",
       "                                                 max_cat_to_onehot=4,\n",
       "                                                 max_delta_step=0, max_depth=6,\n",
       "                                                 max_leaves=0,\n",
       "                                                 min_child_weight=1,\n",
       "                                                 missing=nan,\n",
       "                                                 monotone_constraints='()',\n",
       "                                                 n_estimators=200, n_jobs=0,\n",
       "                                                 num_parallel_tree=1,\n",
       "                                                 predictor='auto',\n",
       "                                                 random_state=1, reg_alpha=0,\n",
       "                                                 reg_lambda=1, ...))"
      ]
     },
     "execution_count": 114,
     "metadata": {},
     "output_type": "execute_result"
    }
   ],
   "source": [
    "estimators = [\n",
    "    (\"AdaBoost\", ab_classifier),\n",
    "    (\"Gradient Boosting\", gbc_tuned),\n",
    "    (\"Random Forest\", rf_tuned),\n",
    "]\n",
    "\n",
    "final_estimator = xgb_tuned\n",
    "\n",
    "stacking_classifier =StackingClassifier(estimators=estimators, final_estimator=final_estimator,cv=5)\n",
    "\n",
    "stacking_classifier.fit(X_train,y_train) "
   ]
  },
  {
   "cell_type": "markdown",
   "id": "greek-jefferson",
   "metadata": {
    "id": "greek-jefferson"
   },
   "source": [
    "### Checking model performance on training set"
   ]
  },
  {
   "cell_type": "code",
   "execution_count": null,
   "id": "607d8647",
   "metadata": {},
   "outputs": [],
   "source": [
    "X_train.head()"
   ]
  },
  {
   "cell_type": "code",
   "execution_count": 115,
   "id": "under-brazilian",
   "metadata": {
    "id": "under-brazilian"
   },
   "outputs": [
    {
     "data": {
      "image/png": "[encoded data removed]",
      "text/plain": [
       "<Figure size 432x288 with 2 Axes>"
      ]
     },
     "metadata": {
      "needs_background": "light"
     },
     "output_type": "display_data"
    }
   ],
   "source": [
    "confusion_matrix_sklearn(stacking_classifier, X_train, y_train) "
   ]
  },
  {
   "cell_type": "code",
   "execution_count": 116,
   "id": "apparent-greenhouse",
   "metadata": {
    "id": "apparent-greenhouse"
   },
   "outputs": [
    {
     "data": {
      "text/html": [
       "<div>\n",
       "<style scoped>\n",
       "    .dataframe tbody tr th:only-of-type {\n",
       "        vertical-align: middle;\n",
       "    }\n",
       "\n",
       "    .dataframe tbody tr th {\n",
       "        vertical-align: top;\n",
       "    }\n",
       "\n",
       "    .dataframe thead th {\n",
       "        text-align: right;\n",
       "    }\n",
       "</style>\n",
       "<table border=\"1\" class=\"dataframe\">\n",
       "  <thead>\n",
       "    <tr style=\"text-align: right;\">\n",
       "      <th></th>\n",
       "      <th>Accuracy</th>\n",
       "      <th>Recall</th>\n",
       "      <th>Precision</th>\n",
       "      <th>F1</th>\n",
       "    </tr>\n",
       "  </thead>\n",
       "  <tbody>\n",
       "    <tr>\n",
       "      <th>0</th>\n",
       "      <td>0.760877</td>\n",
       "      <td>0.883405</td>\n",
       "      <td>0.785373</td>\n",
       "      <td>0.83151</td>\n",
       "    </tr>\n",
       "  </tbody>\n",
       "</table>\n",
       "</div>"
      ],
      "text/plain": [
       "   Accuracy    Recall  Precision       F1\n",
       "0  0.760877  0.883405   0.785373  0.83151"
      ]
     },
     "execution_count": 116,
     "metadata": {},
     "output_type": "execute_result"
    }
   ],
   "source": [
    "stacking_classifier_model_train_perf = model_performance_classification_sklearn(stacking_classifier,X_train,y_train)\n",
    "stacking_classifier_model_train_perf"
   ]
  },
  {
   "cell_type": "markdown",
   "id": "corrected-agency",
   "metadata": {
    "id": "corrected-agency"
   },
   "source": [
    "### Checking model performance on test set"
   ]
  },
  {
   "cell_type": "code",
   "execution_count": 117,
   "id": "empty-agent",
   "metadata": {
    "id": "empty-agent"
   },
   "outputs": [
    {
     "data": {
      "image/png": "[encoded data removed]",
      "text/plain": [
       "<Figure size 432x288 with 2 Axes>"
      ]
     },
     "metadata": {
      "needs_background": "light"
     },
     "output_type": "display_data"
    }
   ],
   "source": [
    "confusion_matrix_sklearn(stacking_classifier,X_test,y_test)"
   ]
  },
  {
   "cell_type": "code",
   "execution_count": 118,
   "id": "quantitative-neighborhood",
   "metadata": {
    "id": "quantitative-neighborhood"
   },
   "outputs": [
    {
     "data": {
      "text/html": [
       "<div>\n",
       "<style scoped>\n",
       "    .dataframe tbody tr th:only-of-type {\n",
       "        vertical-align: middle;\n",
       "    }\n",
       "\n",
       "    .dataframe tbody tr th {\n",
       "        vertical-align: top;\n",
       "    }\n",
       "\n",
       "    .dataframe thead th {\n",
       "        text-align: right;\n",
       "    }\n",
       "</style>\n",
       "<table border=\"1\" class=\"dataframe\">\n",
       "  <thead>\n",
       "    <tr style=\"text-align: right;\">\n",
       "      <th></th>\n",
       "      <th>Accuracy</th>\n",
       "      <th>Recall</th>\n",
       "      <th>Precision</th>\n",
       "      <th>F1</th>\n",
       "    </tr>\n",
       "  </thead>\n",
       "  <tbody>\n",
       "    <tr>\n",
       "      <th>0</th>\n",
       "      <td>0.74529</td>\n",
       "      <td>0.873262</td>\n",
       "      <td>0.774227</td>\n",
       "      <td>0.820768</td>\n",
       "    </tr>\n",
       "  </tbody>\n",
       "</table>\n",
       "</div>"
      ],
      "text/plain": [
       "   Accuracy    Recall  Precision        F1\n",
       "0   0.74529  0.873262   0.774227  0.820768"
      ]
     },
     "execution_count": 118,
     "metadata": {},
     "output_type": "execute_result"
    }
   ],
   "source": [
    "stacking_classifier_model_test_perf = model_performance_classification_sklearn(stacking_classifier,X_test,y_test) \n",
    "stacking_classifier_model_test_perf"
   ]
  },
  {
   "cell_type": "markdown",
   "id": "mechanical-clarity",
   "metadata": {
    "id": "mechanical-clarity"
   },
   "source": [
    "## Model Performance Comparison and Final Model Selection"
   ]
  },
  {
   "cell_type": "code",
   "execution_count": 119,
   "id": "future-irrigation",
   "metadata": {
    "id": "future-irrigation"
   },
   "outputs": [
    {
     "name": "stdout",
     "output_type": "stream",
     "text": [
      "Training performance comparison:\n"
     ]
    },
    {
     "data": {
      "text/html": [
       "<div>\n",
       "<style scoped>\n",
       "    .dataframe tbody tr th:only-of-type {\n",
       "        vertical-align: middle;\n",
       "    }\n",
       "\n",
       "    .dataframe tbody tr th {\n",
       "        vertical-align: top;\n",
       "    }\n",
       "\n",
       "    .dataframe thead th {\n",
       "        text-align: right;\n",
       "    }\n",
       "</style>\n",
       "<table border=\"1\" class=\"dataframe\">\n",
       "  <thead>\n",
       "    <tr style=\"text-align: right;\">\n",
       "      <th></th>\n",
       "      <th>Decision Tree</th>\n",
       "      <th>Tuned Decision Tree</th>\n",
       "      <th>Bagging Classifier</th>\n",
       "      <th>Tuned Bagging Classifier</th>\n",
       "      <th>Random Forest</th>\n",
       "      <th>Tuned Random Forest</th>\n",
       "      <th>Adaboost Classifier</th>\n",
       "      <th>Tuned Adaboost Classifier</th>\n",
       "      <th>Gradient Boost Classifier</th>\n",
       "      <th>Tuned Gradient Boost Classifier</th>\n",
       "      <th>XGBoost Classifier</th>\n",
       "      <th>XGBoost Classifier Tuned</th>\n",
       "      <th>Stacking Classifier</th>\n",
       "    </tr>\n",
       "  </thead>\n",
       "  <tbody>\n",
       "    <tr>\n",
       "      <th>Accuracy</th>\n",
       "      <td>1.0</td>\n",
       "      <td>0.712548</td>\n",
       "      <td>0.985198</td>\n",
       "      <td>0.996187</td>\n",
       "      <td>0.999944</td>\n",
       "      <td>0.735591</td>\n",
       "      <td>0.738226</td>\n",
       "      <td>0.718995</td>\n",
       "      <td>0.758690</td>\n",
       "      <td>0.764017</td>\n",
       "      <td>0.838753</td>\n",
       "      <td>0.765474</td>\n",
       "      <td>0.760877</td>\n",
       "    </tr>\n",
       "    <tr>\n",
       "      <th>Recall</th>\n",
       "      <td>1.0</td>\n",
       "      <td>0.931923</td>\n",
       "      <td>0.985982</td>\n",
       "      <td>0.999916</td>\n",
       "      <td>0.999916</td>\n",
       "      <td>0.925963</td>\n",
       "      <td>0.887182</td>\n",
       "      <td>0.781247</td>\n",
       "      <td>0.881474</td>\n",
       "      <td>0.882649</td>\n",
       "      <td>0.931419</td>\n",
       "      <td>0.881642</td>\n",
       "      <td>0.883405</td>\n",
       "    </tr>\n",
       "    <tr>\n",
       "      <th>Precision</th>\n",
       "      <td>1.0</td>\n",
       "      <td>0.720067</td>\n",
       "      <td>0.991810</td>\n",
       "      <td>0.994407</td>\n",
       "      <td>1.000000</td>\n",
       "      <td>0.742079</td>\n",
       "      <td>0.760688</td>\n",
       "      <td>0.794587</td>\n",
       "      <td>0.784066</td>\n",
       "      <td>0.789059</td>\n",
       "      <td>0.843482</td>\n",
       "      <td>0.791127</td>\n",
       "      <td>0.785373</td>\n",
       "    </tr>\n",
       "    <tr>\n",
       "      <th>F1</th>\n",
       "      <td>1.0</td>\n",
       "      <td>0.812411</td>\n",
       "      <td>0.988887</td>\n",
       "      <td>0.997154</td>\n",
       "      <td>0.999958</td>\n",
       "      <td>0.823885</td>\n",
       "      <td>0.819080</td>\n",
       "      <td>0.787861</td>\n",
       "      <td>0.829922</td>\n",
       "      <td>0.833234</td>\n",
       "      <td>0.885272</td>\n",
       "      <td>0.833935</td>\n",
       "      <td>0.831510</td>\n",
       "    </tr>\n",
       "  </tbody>\n",
       "</table>\n",
       "</div>"
      ],
      "text/plain": [
       "           Decision Tree  Tuned Decision Tree  Bagging Classifier  \\\n",
       "Accuracy             1.0             0.712548            0.985198   \n",
       "Recall               1.0             0.931923            0.985982   \n",
       "Precision            1.0             0.720067            0.991810   \n",
       "F1                   1.0             0.812411            0.988887   \n",
       "\n",
       "           Tuned Bagging Classifier  Random Forest  Tuned Random Forest  \\\n",
       "Accuracy                   0.996187       0.999944             0.735591   \n",
       "Recall                     0.999916       0.999916             0.925963   \n",
       "Precision                  0.994407       1.000000             0.742079   \n",
       "F1                         0.997154       0.999958             0.823885   \n",
       "\n",
       "           Adaboost Classifier  Tuned Adaboost Classifier  \\\n",
       "Accuracy              0.738226                   0.718995   \n",
       "Recall                0.887182                   0.781247   \n",
       "Precision             0.760688                   0.794587   \n",
       "F1                    0.819080                   0.787861   \n",
       "\n",
       "           Gradient Boost Classifier  Tuned Gradient Boost Classifier  \\\n",
       "Accuracy                    0.758690                         0.764017   \n",
       "Recall                      0.881474                         0.882649   \n",
       "Precision                   0.784066                         0.789059   \n",
       "F1                          0.829922                         0.833234   \n",
       "\n",
       "           XGBoost Classifier  XGBoost Classifier Tuned  Stacking Classifier  \n",
       "Accuracy             0.838753                  0.765474             0.760877  \n",
       "Recall               0.931419                  0.881642             0.883405  \n",
       "Precision            0.843482                  0.791127             0.785373  \n",
       "F1                   0.885272                  0.833935             0.831510  "
      ]
     },
     "execution_count": 119,
     "metadata": {},
     "output_type": "execute_result"
    }
   ],
   "source": [
    "# training performance comparison\n",
    "\n",
    "models_train_comp_df = pd.concat(\n",
    "    [\n",
    "        decision_tree_perf_train.T,\n",
    "        dtree_estimator_model_train_perf.T,\n",
    "        bagging_classifier_model_train_perf.T,\n",
    "        bagging_estimator_tuned_model_train_perf.T,\n",
    "        rf_estimator_model_train_perf.T,\n",
    "        rf_tuned_model_train_perf.T,\n",
    "        ab_classifier_model_train_perf.T,\n",
    "        abc_tuned_model_train_perf.T,\n",
    "        gb_classifier_model_train_perf.T,\n",
    "        gbc_tuned_model_train_perf.T,\n",
    "        xgb_classifier_model_train_perf.T,\n",
    "        xgb_tuned_model_train_perf.T,\n",
    "        stacking_classifier_model_train_perf.T,\n",
    "    ],\n",
    "    axis=1,\n",
    ")\n",
    "models_train_comp_df.columns = [\n",
    "    \"Decision Tree\",\n",
    "    \"Tuned Decision Tree\",\n",
    "    \"Bagging Classifier\",\n",
    "    \"Tuned Bagging Classifier\",\n",
    "    \"Random Forest\",\n",
    "    \"Tuned Random Forest\",\n",
    "    \"Adaboost Classifier\",\n",
    "    \"Tuned Adaboost Classifier\",\n",
    "    \"Gradient Boost Classifier\",\n",
    "    \"Tuned Gradient Boost Classifier\",\n",
    "    \"XGBoost Classifier\",\n",
    "    \"XGBoost Classifier Tuned\",\n",
    "    \"Stacking Classifier\",\n",
    "]\n",
    "print(\"Training performance comparison:\")\n",
    "models_train_comp_df"
   ]
  },
  {
   "cell_type": "code",
   "execution_count": 120,
   "id": "collective-fireplace",
   "metadata": {
    "id": "collective-fireplace"
   },
   "outputs": [
    {
     "name": "stdout",
     "output_type": "stream",
     "text": [
      "Testing performance comparison:\n"
     ]
    },
    {
     "data": {
      "text/html": [
       "<div>\n",
       "<style scoped>\n",
       "    .dataframe tbody tr th:only-of-type {\n",
       "        vertical-align: middle;\n",
       "    }\n",
       "\n",
       "    .dataframe tbody tr th {\n",
       "        vertical-align: top;\n",
       "    }\n",
       "\n",
       "    .dataframe thead th {\n",
       "        text-align: right;\n",
       "    }\n",
       "</style>\n",
       "<table border=\"1\" class=\"dataframe\">\n",
       "  <thead>\n",
       "    <tr style=\"text-align: right;\">\n",
       "      <th></th>\n",
       "      <th>Decision Tree</th>\n",
       "      <th>Tuned Decision Tree</th>\n",
       "      <th>Bagging Classifier</th>\n",
       "      <th>Tuned Bagging Classifier</th>\n",
       "      <th>Random Forest</th>\n",
       "      <th>Tuned Random Forest</th>\n",
       "      <th>Adaboost Classifier</th>\n",
       "      <th>Tuned Adaboost Classifier</th>\n",
       "      <th>Gradient Boost Classifier</th>\n",
       "      <th>Tuned Gradient Boost Classifier</th>\n",
       "      <th>XGBoost Classifier</th>\n",
       "      <th>XGBoost Classifier Tuned</th>\n",
       "      <th>Stacking Classifier</th>\n",
       "    </tr>\n",
       "  </thead>\n",
       "  <tbody>\n",
       "    <tr>\n",
       "      <th>Accuracy</th>\n",
       "      <td>0.664835</td>\n",
       "      <td>0.706567</td>\n",
       "      <td>0.691523</td>\n",
       "      <td>0.724228</td>\n",
       "      <td>0.721088</td>\n",
       "      <td>0.723836</td>\n",
       "      <td>0.734301</td>\n",
       "      <td>0.716510</td>\n",
       "      <td>0.745683</td>\n",
       "      <td>0.743459</td>\n",
       "      <td>0.733255</td>\n",
       "      <td>0.745160</td>\n",
       "      <td>0.745290</td>\n",
       "    </tr>\n",
       "    <tr>\n",
       "      <th>Recall</th>\n",
       "      <td>0.742801</td>\n",
       "      <td>0.930852</td>\n",
       "      <td>0.764153</td>\n",
       "      <td>0.895397</td>\n",
       "      <td>0.840744</td>\n",
       "      <td>0.923800</td>\n",
       "      <td>0.885015</td>\n",
       "      <td>0.781391</td>\n",
       "      <td>0.874241</td>\n",
       "      <td>0.871303</td>\n",
       "      <td>0.860725</td>\n",
       "      <td>0.869540</td>\n",
       "      <td>0.873262</td>\n",
       "    </tr>\n",
       "    <tr>\n",
       "      <th>Precision</th>\n",
       "      <td>0.752232</td>\n",
       "      <td>0.715447</td>\n",
       "      <td>0.771711</td>\n",
       "      <td>0.743857</td>\n",
       "      <td>0.764926</td>\n",
       "      <td>0.732526</td>\n",
       "      <td>0.757799</td>\n",
       "      <td>0.791468</td>\n",
       "      <td>0.774154</td>\n",
       "      <td>0.773296</td>\n",
       "      <td>0.767913</td>\n",
       "      <td>0.775913</td>\n",
       "      <td>0.774227</td>\n",
       "    </tr>\n",
       "    <tr>\n",
       "      <th>F1</th>\n",
       "      <td>0.747487</td>\n",
       "      <td>0.809058</td>\n",
       "      <td>0.767913</td>\n",
       "      <td>0.812622</td>\n",
       "      <td>0.801045</td>\n",
       "      <td>0.817119</td>\n",
       "      <td>0.816481</td>\n",
       "      <td>0.786397</td>\n",
       "      <td>0.821159</td>\n",
       "      <td>0.819379</td>\n",
       "      <td>0.811675</td>\n",
       "      <td>0.820063</td>\n",
       "      <td>0.820768</td>\n",
       "    </tr>\n",
       "  </tbody>\n",
       "</table>\n",
       "</div>"
      ],
      "text/plain": [
       "           Decision Tree  Tuned Decision Tree  Bagging Classifier  \\\n",
       "Accuracy        0.664835             0.706567            0.691523   \n",
       "Recall          0.742801             0.930852            0.764153   \n",
       "Precision       0.752232             0.715447            0.771711   \n",
       "F1              0.747487             0.809058            0.767913   \n",
       "\n",
       "           Tuned Bagging Classifier  Random Forest  Tuned Random Forest  \\\n",
       "Accuracy                   0.724228       0.721088             0.723836   \n",
       "Recall                     0.895397       0.840744             0.923800   \n",
       "Precision                  0.743857       0.764926             0.732526   \n",
       "F1                         0.812622       0.801045             0.817119   \n",
       "\n",
       "           Adaboost Classifier  Tuned Adaboost Classifier  \\\n",
       "Accuracy              0.734301                   0.716510   \n",
       "Recall                0.885015                   0.781391   \n",
       "Precision             0.757799                   0.791468   \n",
       "F1                    0.816481                   0.786397   \n",
       "\n",
       "           Gradient Boost Classifier  Tuned Gradient Boost Classifier  \\\n",
       "Accuracy                    0.745683                         0.743459   \n",
       "Recall                      0.874241                         0.871303   \n",
       "Precision                   0.774154                         0.773296   \n",
       "F1                          0.821159                         0.819379   \n",
       "\n",
       "           XGBoost Classifier  XGBoost Classifier Tuned  Stacking Classifier  \n",
       "Accuracy             0.733255                  0.745160             0.745290  \n",
       "Recall               0.860725                  0.869540             0.873262  \n",
       "Precision            0.767913                  0.775913             0.774227  \n",
       "F1                   0.811675                  0.820063             0.820768  "
      ]
     },
     "execution_count": 120,
     "metadata": {},
     "output_type": "execute_result"
    }
   ],
   "source": [
    "# testing performance comparison\n",
    "\n",
    "models_test_comp_df = pd.concat(\n",
    "    [\n",
    "        decision_tree_perf_test.T,\n",
    "        dtree_estimator_model_test_perf.T,\n",
    "        bagging_classifier_model_test_perf.T,\n",
    "        bagging_estimator_tuned_model_test_perf.T,\n",
    "        rf_estimator_model_test_perf.T,\n",
    "        rf_tuned_model_test_perf.T,\n",
    "        ab_classifier_model_test_perf.T,\n",
    "        abc_tuned_model_test_perf.T,\n",
    "        gb_classifier_model_test_perf.T,\n",
    "        gbc_tuned_model_test_perf.T,\n",
    "        xgb_classifier_model_test_perf.T,\n",
    "        xgb_tuned_model_test_perf.T,\n",
    "        stacking_classifier_model_test_perf.T,\n",
    "    ],\n",
    "    axis=1,\n",
    ")\n",
    "models_test_comp_df.columns = [\n",
    "    \"Decision Tree\",\n",
    "    \"Tuned Decision Tree\",\n",
    "    \"Bagging Classifier\",\n",
    "    \"Tuned Bagging Classifier\",\n",
    "    \"Random Forest\",\n",
    "    \"Tuned Random Forest\",\n",
    "    \"Adaboost Classifier\",\n",
    "    \"Tuned Adaboost Classifier\",\n",
    "    \"Gradient Boost Classifier\",\n",
    "    \"Tuned Gradient Boost Classifier\",\n",
    "    \"XGBoost Classifier\",\n",
    "    \"XGBoost Classifier Tuned\",\n",
    "    \"Stacking Classifier\",\n",
    "]\n",
    "print(\"Testing performance comparison:\")\n",
    "models_test_comp_df \n",
    "\n"
   ]
  },
  {
   "cell_type": "markdown",
   "id": "ef8f25a3",
   "metadata": {},
   "source": [
    "- Gradient Boost Classifier, XGBoost Classifier tuned and Stacking Classifier are the best models as they have highest F1 score of around 82%."
   ]
  },
  {
   "cell_type": "markdown",
   "id": "stone-venezuela",
   "metadata": {
    "id": "stone-venezuela"
   },
   "source": [
    "### Important features of the final model"
   ]
  },
  {
   "cell_type": "code",
   "execution_count": 121,
   "id": "forty-mayor",
   "metadata": {
    "id": "forty-mayor",
    "scrolled": true
   },
   "outputs": [
    {
     "data": {
      "image/png": "[encoded data removed]",
      "text/plain": [
       "<Figure size 864x864 with 1 Axes>"
      ]
     },
     "metadata": {
      "needs_background": "light"
     },
     "output_type": "display_data"
    }
   ],
   "source": [
    "feature_names = X_train.columns\n",
    "importances = gb_classifier.feature_importances_\n",
    "indices = np.argsort(importances)\n",
    "\n",
    "plt.figure(figsize=(12, 12))\n",
    "plt.title(\"Feature Importances\")\n",
    "plt.barh(range(len(indices)), importances[indices], color=\"violet\", align=\"center\")\n",
    "plt.yticks(range(len(indices)), [feature_names[i] for i in indices])\n",
    "plt.xlabel(\"Relative Importance\")\n",
    "plt.show()"
   ]
  },
  {
   "cell_type": "markdown",
   "id": "7819d7de",
   "metadata": {},
   "source": [
    "- Education of the employee in High school in the major feature that determines certification of the visa followed by people who are having a job experience"
   ]
  },
  {
   "cell_type": "markdown",
   "id": "congressional-knock",
   "metadata": {
    "id": "congressional-knock"
   },
   "source": [
    "## Business Insights and Recommendations"
   ]
  },
  {
   "cell_type": "markdown",
   "id": "Am_0CWgMeXxY",
   "metadata": {
    "id": "Am_0CWgMeXxY"
   },
   "source": [
    "- We can use this predictive model for any for people with any eduactional qualification and experice to ceritify or deny visa for an applicant\n",
    "- Educational qualification is one of the key parameter in certifying visa. People with higher qualification are mostly certified.\n",
    "- As the number applicants to Islands is less and the deniel rate is more there is chance that there could be shortage of employement. The mean prevailing wage is also higher here compared to other places.\n",
    "- Job experience is an important feature. People who has the experience can adapt and work with the situation much more faster.\n",
    "- Even though 66% appliacations comes from Asians Europeans are certified the most followed by South Americans and then the asains.\n",
    "- Most of the employee with MAsters as their qualifiaction are looking to find job in West as they have a similar prevailing wage of Islands.\n",
    "- Even though people with no experience requires less training they can be also considered for granting visa. Especially in the regions where application is less.\n",
    "- It is better to have a uniform unit for wage for all the employees.\n",
    "- West is a region where prevailing wage is comparitivley less and people with educational qualification Master and Bachelors are preferring the most.The denial rate is also comparitvely more in West\n",
    "- More Visas can be certified in the areas of West, South and Northeast region as majoirty of employees who apply are of Masters and Graduate education qualification.\n",
    "\n",
    "\n",
    "\n",
    "\n"
   ]
  },
  {
   "cell_type": "markdown",
   "id": "4kJHJ56seYnH",
   "metadata": {
    "id": "4kJHJ56seYnH"
   },
   "source": [
    "___"
   ]
  }
 ],
 "metadata": {
  "colab": {
   "collapsed_sections": [
    "2xUfZBo9JM9e",
    "c1cd4628",
    "thorough-passion",
    "6vlJXoQkgcGI",
    "aboriginal-wrist",
    "accessory-camel",
    "assigned-berkeley",
    "standing-horizontal",
    "american-venue",
    "competent-timing",
    "cutting-bookmark",
    "wooden-christian",
    "comic-inventory",
    "metric-apparel",
    "bulgarian-parts",
    "editorial-command",
    "forbidden-kidney",
    "amateur-above",
    "attempted-burlington",
    "aging-curve",
    "stunning-surrey",
    "equivalent-aging",
    "dressed-excuse",
    "wound-communication",
    "theoretical-flexibility",
    "attended-current",
    "macro-decrease",
    "binding-charger",
    "lesser-bacteria",
    "changing-kansas",
    "suspected-asthma",
    "icaAgO2siAcs",
    "allied-association",
    "flexible-independence",
    "teKIRZIDdzpK",
    "71450807",
    "ICezcLI4iL0a",
    "blank-ballet",
    "increasing-diversity",
    "material-reduction",
    "protected-romantic",
    "FnQnoNOCiSwl",
    "aging-corruption",
    "suffering-growing",
    "verified-obligation",
    "increased-civilian",
    "protecting-douglas",
    "elegant-bookmark",
    "colonial-society",
    "possible-vinyl",
    "theoretical-poverty",
    "beneficial-bosnia",
    "joint-appendix",
    "joined-newman",
    "p33jg7JVid1H",
    "divine-legend",
    "grand-popularity",
    "french-breed",
    "increased-sharing",
    "adolescent-carroll",
    "fitting-cameroon",
    "married-terminal",
    "fiscal-language",
    "tribal-rainbow",
    "fuzzy-enemy",
    "standard-islam",
    "subsequent-royalty",
    "1415e2a1",
    "superior-letter",
    "muslim-machine",
    "advised-rabbit",
    "mobile-chosen",
    "psychological-plenty",
    "awful-judgment",
    "disciplinary-manhattan",
    "greek-jefferson",
    "corrected-agency",
    "mechanical-clarity",
    "stone-venezuela",
    "congressional-knock"
   ],
   "name": "DSBA_Project_EasyVisa_LowCode.ipynb",
   "provenance": []
  },
  "kernelspec": {
   "display_name": "Python 3",
   "language": "python",
   "name": "python3"
  },
  "language_info": {
   "codemirror_mode": {
    "name": "ipython",
    "version": 3
   },
   "file_extension": ".py",
   "mimetype": "text/x-python",
   "name": "python",
   "nbconvert_exporter": "python",
   "pygments_lexer": "ipython3",
   "version": "3.8.8"
  }
 },
 "nbformat": 4,
 "nbformat_minor": 5
}
